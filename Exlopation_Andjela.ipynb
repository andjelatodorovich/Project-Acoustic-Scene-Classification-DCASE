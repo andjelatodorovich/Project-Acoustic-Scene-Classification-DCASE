{
 "cells": [
  {
   "cell_type": "code",
   "execution_count": 9,
   "id": "96f01674",
   "metadata": {},
   "outputs": [],
   "source": [
    "# Import necessary standard packages\n",
    "import tensorflow as tf\n",
    "import numpy as np\n",
    "import pandas as pd\n",
    "from pathlib import Path\n",
    "import matplotlib.pyplot as plt\n",
    "\n",
    "#import tensorflow_addons as tfa"
   ]
  },
  {
   "cell_type": "code",
   "execution_count": 2,
   "id": "906f58b0",
   "metadata": {},
   "outputs": [],
   "source": [
    "df = pd.read_csv('fold1_test.csv')\n",
    "df['split'] = np.random.randn(df.shape[0], 1)\n",
    "\n",
    "msk = np.random.rand(len(df)) <= 0.8\n",
    "\n",
    "train = df[msk]\n",
    "test = df[~msk]"
   ]
  },
  {
   "cell_type": "code",
   "execution_count": 3,
   "id": "29d4031d",
   "metadata": {},
   "outputs": [],
   "source": [
    "trainlist = train['filename'].tolist()"
   ]
  },
  {
   "cell_type": "code",
   "execution_count": 4,
   "id": "1f155de3",
   "metadata": {},
   "outputs": [
    {
     "data": {
      "text/plain": [
       "2349"
      ]
     },
     "execution_count": 4,
     "metadata": {},
     "output_type": "execute_result"
    }
   ],
   "source": [
    "len(trainlist)"
   ]
  },
  {
   "cell_type": "code",
   "execution_count": 5,
   "id": "b28708b5",
   "metadata": {},
   "outputs": [],
   "source": [
    "testlist = test['filename'].tolist()"
   ]
  },
  {
   "cell_type": "code",
   "execution_count": 6,
   "id": "37d7094c",
   "metadata": {},
   "outputs": [],
   "source": [
    "import os\n",
    "path = os.path.abspath(os.getcwd())"
   ]
  },
  {
   "cell_type": "code",
   "execution_count": 7,
   "id": "592f9f04",
   "metadata": {},
   "outputs": [],
   "source": [
    "trainfiles = []\n",
    "for f in os.listdir(path):\n",
    "    file = 'audio/'+f\n",
    "    if file in trainlist:\n",
    "        trainfiles.append(f)"
   ]
  },
  {
   "cell_type": "code",
   "execution_count": 8,
   "id": "0b8db9fa",
   "metadata": {},
   "outputs": [],
   "source": [
    "testfiles = []\n",
    "for f in os.listdir(path):\n",
    "    file = 'audio/'+f\n",
    "    if file in testlist:\n",
    "        testfiles.append(f)"
   ]
  },
  {
   "cell_type": "code",
   "execution_count": 10,
   "id": "eabb86ca",
   "metadata": {},
   "outputs": [],
   "source": [
    "trainfiles = []\n",
    "for f in os.listdir(path):\n",
    "    file = 'audio/'+f\n",
    "    if file in trainlist:\n",
    "        trainfiles.append(f)"
   ]
  },
  {
   "cell_type": "code",
   "execution_count": 11,
   "id": "81888ec5",
   "metadata": {},
   "outputs": [],
   "source": [
    "def get_label(filepath):\n",
    "    '''Receives a path to a video and returns its label\n",
    "    '''\n",
    "    scn_dict = {'airport': 0, 'shopping_mall': 1, 'metro_station': 2, \n",
    "                'street_pedestrian': 3, 'public_square': 4, 'street_traffic': 5,\n",
    "                'tram': 6, 'bus': 7, 'metro': 8, 'park': 9}\n",
    "    \n",
    "    fileid = Path(filepath).name\n",
    "    scn_id = fileid.split('-')[0]\n",
    "    label = scn_dict[scn_id]\n",
    "    return label\n",
    "\n",
    "# Get labels\n",
    "train_labels = [get_label(f) for f in trainfiles]\n",
    "test_labels = [get_label(f) for f in testfiles]"
   ]
  },
  {
   "cell_type": "code",
   "execution_count": 12,
   "id": "acfdfa08",
   "metadata": {},
   "outputs": [],
   "source": [
    "#source: https://medium.com/@hasithsura/audio-classification-d37a82d6715\n",
    "import numpy as np\n",
    "import librosa\n",
    "def get_melspectrogram_db(file_path, sr=None, n_fft=2048, hop_length=512, n_mels=128, fmin=20, fmax=8300, top_db=80):\n",
    "    wav,sr = librosa.load(file_path,sr=sr)\n",
    "    if wav.shape[0]<5*sr:\n",
    "        wav=np.pad(wav,int(np.ceil((5*sr-wav.shape[0])/2)),mode='reflect')\n",
    "    else:\n",
    "        wav=wav[:5*sr]\n",
    "    spec=librosa.feature.melspectrogram(wav, sr=sr, n_fft=n_fft,\n",
    "              hop_length=hop_length,n_mels=n_mels,fmin=fmin,fmax=fmax)\n",
    "    spec_db=librosa.power_to_db(spec,top_db=top_db)\n",
    "    return spec_db\n"
   ]
  },
  {
   "cell_type": "code",
   "execution_count": 13,
   "id": "4e8319b7",
   "metadata": {},
   "outputs": [],
   "source": [
    "def spec_to_image(spec, eps=1e-6):\n",
    "    mean = spec.mean()\n",
    "    std = spec.std()\n",
    "    spec_norm = (spec - mean) / (std + eps)\n",
    "    spec_min, spec_max = spec_norm.min(), spec_norm.max()\n",
    "    spec_scaled = 255 * (spec_norm - spec_min) / (spec_max - spec_min)\n",
    "    spec_scaled = spec_scaled.astype(np.uint8)\n",
    "    return spec_scaled"
   ]
  },
  {
   "cell_type": "code",
   "execution_count": 21,
   "id": "b810475d",
   "metadata": {},
   "outputs": [
    {
     "data": {
      "text/plain": [
       "torch.Size([1, 128, 431])"
      ]
     },
     "execution_count": 21,
     "metadata": {},
     "output_type": "execute_result"
    }
   ],
   "source": [
    "import torchvision\n",
    "img = spec_to_image(get_melspectrogram_db(\"C:\\\\Users\\\\mdsp\\\\Downloads\\\\experiments\\\\test\\\\airport-lisbon-1175-45070-c.wav\"))\n",
    "tensor_array = torch.from_numpy(img)\n",
    "tensor_array = tensor_array[None, :]\n",
    "tensor_array.shape"
   ]
  },
  {
   "cell_type": "code",
   "execution_count": 27,
   "id": "8382ceb7",
   "metadata": {},
   "outputs": [],
   "source": [
    "import os\n",
    "from sklearn.model_selection import train_test_split\n",
    "import numpy as np\n",
    "from torch.utils.data import DataLoader"
   ]
  },
  {
   "cell_type": "code",
   "execution_count": 46,
   "id": "4061646b",
   "metadata": {},
   "outputs": [],
   "source": [
    "import pandas as pd\n",
    "import torch\n",
    "import torchaudio\n",
    "from torch.utils.data import Dataset\n",
    "from PIL import Image\n",
    "\n",
    "\n",
    "\n",
    "class DCaseDataset(Dataset):\n",
    "    \"\"\"\n",
    "    Dataloader for DCase dataset\n",
    "    Structure of the class is taken from:\n",
    "    https://colab.research.google.com/github/pytorch/tutorials/blob/gh-pages/_downloads/audio_classifier_tutorial.ipynb\n",
    "    \"\"\"\n",
    "\n",
    "    labelind2name = {\n",
    "        0: \"airport\",\n",
    "        1: \"bus\",\n",
    "        2: \"metro\",\n",
    "        3: \"metro_station\",\n",
    "        4: \"park\",\n",
    "        5: \"public_square\",\n",
    "        6: \"shopping_mall\",\n",
    "        7: \"street_pedestrian\",\n",
    "        8: \"street_traffic\",\n",
    "        9: \"tram\",\n",
    "    }\n",
    "    name2labelind = {\n",
    "        \"airport\": 0,\n",
    "        \"bus\": 1,\n",
    "        \"metro\": 2,\n",
    "        \"metro_station\": 3,\n",
    "        \"park\": 4,\n",
    "        \"public_square\": 5,\n",
    "        \"shopping_mall\": 6,\n",
    "        \"street_pedestrian\": 7,\n",
    "        \"street_traffic\": 8,\n",
    "        \"tram\": 9,\n",
    "    }\n",
    "\n",
    "    def __init__(self, root_dir, csv_path, indices):\n",
    "        \"\"\"\n",
    "\n",
    "        :param root_dir:\n",
    "        :param split:\n",
    "        \"\"\"\n",
    "        # Open csv files\n",
    "        self.root_dir = path\n",
    "\n",
    "        csvData = pd.read_csv(csv_path, sep=\"\\t\")\n",
    "        csvData[\"label\"] = csvData.apply(lambda x: x[\"filename\"].split('/')[1].split(\"-\")[0], axis=1)\n",
    "        #metaData = pd.read_csv(meta_path, sep=\"\\t\") if meta_path is not None else None\n",
    "\n",
    "        # In test mode, just get file list\n",
    "        #if split == \"test\":\n",
    "        #    self.file_names = []\n",
    "        #    for i in range(0, len(csvData)):\n",
    "        #        self.file_names.append(csvData.iloc[i, 0])\n",
    "        #    return\n",
    "\n",
    "        # Lists of file names and labels\n",
    "        self.labels, self.data = [], []\n",
    "        \n",
    "        for i in indices:\n",
    "            filename = csvData.iloc[i, 0].split('/')[1]\n",
    "            if (csvData.iloc[i, 0].split('/')[1]) in os.listdir(os.path.join(path, \"test\")):\n",
    "                #self.file_names.append(csvData.iloc[i, 0].split('/')[1])\n",
    "                image = spec_to_image(get_melspectrogram_db(os.path.join(path, \"test\", csvData.iloc[i, 0].split('/')[1])))\n",
    "                self.data.append(image[np.newaxis,...])\n",
    "                label = filename.split(\"-\")[0]\n",
    "                self.labels.append(self.name2labelind[label])\n",
    "    def __getitem__(self, index):\n",
    "        \"\"\"\n",
    "\n",
    "        :param index:\n",
    "        :return:\n",
    "        \"\"\"\n",
    "\n",
    "        # Load data\n",
    "        #filepath = os.path.join(self.root_dir, 'test',self.file_names[index])\n",
    "        #sound, sfreq = torchaudio.load(filepath, normalize=True)\n",
    "        #assert sound.shape[0] == 1, \"Expected mono channel\"\n",
    "        #sound = torch.mean(sound, dim=0)\n",
    "        #assert sfreq == 44100, \"Expected sampling rate of 44.1 kHz\"\n",
    "\n",
    "        # Remove last samples if longer than expected\n",
    "        #if sound.shape[-1] >= 441000:\n",
    "         #   sound = sound[:441000]\n",
    "\n",
    "        return (self.data[index], self.labels[index])\n",
    "    \n",
    "\n",
    "    def __len__(self):\n",
    "        return len(self.data)"
   ]
  },
  {
   "cell_type": "code",
   "execution_count": null,
   "id": "6770ad41",
   "metadata": {},
   "outputs": [],
   "source": []
  },
  {
   "cell_type": "code",
   "execution_count": 47,
   "id": "9c68507b",
   "metadata": {},
   "outputs": [],
   "source": [
    "\n",
    "\n",
    "root_dir = \"C:\\\\Users\\\\mdsp\\\\Downloads\\\\experiments\\\\test\\\\\"\n",
    "csv_path = \"C:\\\\Users\\\\mdsp\\\\Downloads\\\\experiments\\\\fold1_test.csv\"\n",
    "\n",
    "N = len(os.listdir(root_dir))\n",
    "train_indices, test_indices = train_test_split(np.arange(0,N), test_size=0.33)\n",
    "\n",
    "train_dataset = DCaseDataset(root_dir, csv_path, train_indices)\n",
    "test_dataset = DCaseDataset(root_dir, csv_path, test_indices)"
   ]
  },
  {
   "cell_type": "code",
   "execution_count": 48,
   "id": "d24e57e1",
   "metadata": {},
   "outputs": [],
   "source": [
    "# import pandas as pd\n",
    "# import torch\n",
    "# import torchaudio\n",
    "# from torch.utils.data import Dataset\n",
    "\n",
    "\n",
    "# class DCaseDataset(Dataset):\n",
    "#     \"\"\"\n",
    "#     Dataloader for DCase dataset\n",
    "#     Structure of the class is taken from:\n",
    "#     https://colab.research.google.com/github/pytorch/tutorials/blob/gh-pages/_downloads/audio_classifier_tutorial.ipynb\n",
    "#     \"\"\"\n",
    "    \n",
    "#     def __init__(self, path, files, labels):\n",
    " \n",
    "#         self.file_names, self.labels = [], []\n",
    "#         for i in range(len(files)):\n",
    "#             self.file_names.append(files[i])\n",
    "#             self.labels.append(labels[i])\n",
    "\n",
    "\n",
    "#     def __getitem__(self, index):\n",
    "#         \"\"\"\n",
    "\n",
    "#         :param index:\n",
    "#         :return:\n",
    "#         \"\"\"\n",
    "\n",
    "#         # Load data\n",
    "#         filepath = path + self.file_names[index]\n",
    "#         sound, sfreq = torchaudio.load(filepath, normalize=True)\n",
    "#         assert sound.shape[0] == 1, \"Expected mono channel\"\n",
    "#         sound = torch.mean(sound, dim=0)\n",
    "#         assert sfreq == 44100, \"Expected sampling rate of 44.1 kHz\"\n",
    "\n",
    "#         # Remove last samples if longer than expected\n",
    "#         if sound.shape[-1] >= 441000:\n",
    "#             sound = sound[:441000]\n",
    "\n",
    "#         return (\n",
    "#                 sound,\n",
    "#                 self.labels[index],\n",
    "#                 self.file_names[index]\n",
    "#             )\n",
    "\n",
    "#     def __len__(self):\n",
    "#         return len(self.file_names)\n",
    "    \n",
    "    "
   ]
  },
  {
   "cell_type": "code",
   "execution_count": 49,
   "id": "0812880e",
   "metadata": {},
   "outputs": [],
   "source": [
    "import os\n",
    "from sklearn.model_selection import train_test_split\n",
    "import numpy as np\n",
    "from torch.utils.data import DataLoader\n",
    "from sp4asc.models.cnns import LogMelSpectrogram\n",
    "from sp4asc.models import get_net\n",
    "from sp4asc.training import TrainingManager"
   ]
  },
  {
   "cell_type": "code",
   "execution_count": 50,
   "id": "7259c349",
   "metadata": {},
   "outputs": [],
   "source": [
    "#N = len(os.listdir(root_dir))\n",
    "#train_indices, test_indices = train_test_split(np.arange(0,N), test_size=0.33)\n",
    "\n",
    "#train_dataset = DCaseDataset(root_dir, csv_path, train_indices)\n",
    "#test_dataset = DCaseDataset(root_dir, csv_path, test_indices)"
   ]
  },
  {
   "cell_type": "code",
   "execution_count": 100,
   "id": "b0b1f2da",
   "metadata": {},
   "outputs": [],
   "source": [
    "import torch.nn.functional as F\n",
    "class SimpleCNN(nn.Module):\n",
    "  def __init__(self, input_shape, batch_size=16, num_cats=10):\n",
    "    super().__init__()\n",
    "    self.conv1 = nn.Conv2d(1, 32, kernel_size = 3, stride=1, padding=1)\n",
    "    self.bn1 = nn.BatchNorm2d(32)\n",
    "    self.conv2 = nn.Conv2d(32, 32, kernel_size = 3, stride=1, padding=1)\n",
    "    self.bn2 = nn.BatchNorm2d(32)\n",
    "    self.conv3 = nn.Conv2d(32, 64, kernel_size=3, stride=1, padding=1)\n",
    "    self.bn3 = nn.BatchNorm2d(64)\n",
    "    self.conv4 = nn.Conv2d(64, 64, kernel_size=3, stride=1, padding=1)\n",
    "    self.bn4 = nn.BatchNorm2d(64)\n",
    "    self.conv5 = nn.Conv2d(64, 128, kernel_size=3, stride=1, padding=1)\n",
    "    self.bn5 = nn.BatchNorm2d(128)\n",
    "    self.conv6 = nn.Conv2d(128, 128, kernel_size=3, stride=1, padding=1)\n",
    "    self.bn6 = nn.BatchNorm2d(128)\n",
    "    self.conv7 = nn.Conv2d(128, 256, kernel_size=3, stride=1, padding=1)\n",
    "    self.bn7 = nn.BatchNorm2d(256)\n",
    "    self.conv8 = nn.Conv2d(256, 256, kernel_size=3, stride=1, padding=1)\n",
    "    self.bn8 = nn.BatchNorm2d(256)\n",
    "    self.dense1 = nn.Linear(256*(((input_shape[1]//2)//2)//2)*(((input_shape[2]//2)//2)//2),500)\n",
    "    self.dropout = nn.Dropout(0.5)\n",
    "    self.dense2 = nn.Linear(500, num_cats)\n",
    "  def forward(self, x):\n",
    "    x = self.conv1(x)\n",
    "    x = F.relu(self.bn1(x))\n",
    "    x = self.conv2(x)\n",
    "    x = F.relu(self.bn2(x))\n",
    "    x = F.max_pool2d(x, kernel_size=2) \n",
    "    x = self.conv3(x)\n",
    "    x = F.relu(self.bn3(x))\n",
    "    x = self.conv4(x)\n",
    "    x = F.relu(self.bn4(x))\n",
    "    x = F.max_pool2d(x, kernel_size=2)\n",
    "    x = self.conv5(x)\n",
    "    x = F.relu(self.bn5(x))\n",
    "    x = self.conv6(x)\n",
    "    x = F.relu(self.bn6(x))\n",
    "    x = F.max_pool2d(x, kernel_size=2)\n",
    "    x = self.conv7(x)\n",
    "    x = F.relu(self.bn7(x))\n",
    "    x = self.conv8(x)\n",
    "    x = F.relu(self.bn8(x))\n",
    "    x = x.view(x.size(0),-1)\n",
    "    x = F.relu(self.dense1(x))\n",
    "    x = self.dropout(x)\n",
    "    x = self.dense2(x)\n",
    "    return x"
   ]
  },
  {
   "cell_type": "code",
   "execution_count": 107,
   "id": "fa19f228",
   "metadata": {},
   "outputs": [],
   "source": [
    "from torchvision.models import resnet34\n",
    "import torch\n",
    "import torch.nn as nn\n",
    "import torch.optim as optim\n",
    "if torch.cuda.is_available():\n",
    "  device=torch.device('cuda:0')\n",
    "else:\n",
    "  device=torch.device('cpu')\n",
    "net = resnet34(pretrained=True)\n",
    "net.fc = nn.Linear(512,10)\n",
    "net.conv1 = nn.Conv2d(1, 64, kernel_size=(7, 7), stride=(2, 2), padding=(3, 3), bias=False)\n",
    "net = net.to(device)"
   ]
  },
  {
   "cell_type": "code",
   "execution_count": 95,
   "id": "16d24886",
   "metadata": {},
   "outputs": [
    {
     "name": "stdout",
     "output_type": "stream",
     "text": [
      "SimpleCNN(\n",
      "  (conv1): Conv2d(1, 32, kernel_size=(3, 3), stride=(1, 1))\n",
      "  (conv2): Conv2d(32, 64, kernel_size=(3, 3), stride=(1, 1))\n",
      "  (conv3): Conv2d(64, 128, kernel_size=(3, 3), stride=(1, 1))\n",
      "  (conv4): Conv2d(128, 256, kernel_size=(3, 3), stride=(1, 1))\n",
      "  (conv5): Conv2d(256, 512, kernel_size=(3, 3), stride=(1, 1))\n",
      "  (fc1): Linear(in_features=11264, out_features=10, bias=True)\n",
      "  (batchnorm1): BatchNorm2d(32, eps=1e-05, momentum=0.1, affine=True, track_running_stats=True)\n",
      "  (batchnorm2): BatchNorm2d(64, eps=1e-05, momentum=0.1, affine=True, track_running_stats=True)\n",
      "  (batchnorm3): BatchNorm2d(128, eps=1e-05, momentum=0.1, affine=True, track_running_stats=True)\n",
      "  (batchnorm4): BatchNorm2d(256, eps=1e-05, momentum=0.1, affine=True, track_running_stats=True)\n",
      "  (batchnorm5): BatchNorm2d(512, eps=1e-05, momentum=0.1, affine=True, track_running_stats=True)\n",
      "  (dropout): Dropout(p=0.3, inplace=False)\n",
      ")\n"
     ]
    }
   ],
   "source": [
    "device = \"cpu\"\n",
    "net = SimpleCNN()\n",
    "net = net.to(device)\n",
    "print(net)"
   ]
  },
  {
   "cell_type": "code",
   "execution_count": 108,
   "id": "ea93626a",
   "metadata": {},
   "outputs": [],
   "source": [
    "config = {\n",
    "    \"batchsize\": 32,\n",
    "    \"num_workers\": 0,\n",
    "    \"reload\": False,\n",
    "    \"net\": net,\n",
    "    \"dropout\": 0.2,\n",
    "    \"specAugment\": [128, 2, 16, 2],\n",
    "    \"lr\": 1e-3,\n",
    "    \"eta_min\": 1e-5,\n",
    "    \"max_epoch\": 100,\n",
    "    \"weight_decay\": 1e-5,\n",
    "    \"mixup_alpha\": 0.2,\n",
    "    \"out_dir\": \"C:\\\\Users\\\\mdsp\\\\Downloads\\\\experiments\",\n",
    "}"
   ]
  },
  {
   "cell_type": "code",
   "execution_count": 109,
   "id": "2c3115f3",
   "metadata": {},
   "outputs": [],
   "source": [
    "\n",
    "loader_train = DataLoader(\n",
    "        train_dataset,\n",
    "        batch_size=config[\"batchsize\"],\n",
    "        shuffle=True,\n",
    "        pin_memory=True,\n",
    "        num_workers=config[\"num_workers\"],\n",
    "        drop_last=True,\n",
    "    )\n",
    "\n",
    "loader_test = DataLoader(\n",
    "    test_dataset,\n",
    "    batch_size=config[\"batchsize\"],\n",
    "    shuffle=False,\n",
    "    pin_memory=True,\n",
    "    num_workers=config[\"num_workers\"],\n",
    "    drop_last=False,\n",
    "    \n",
    ")"
   ]
  },
  {
   "cell_type": "code",
   "execution_count": 110,
   "id": "ac2f8b85",
   "metadata": {},
   "outputs": [],
   "source": [
    "from tqdm import tqdm\n",
    "learning_rate = config[\"lr\"]\n",
    "optimizer = torch.optim.AdamW(net.parameters(), lr=learning_rate)\n",
    "num_epochs = 50\n",
    "loss_fn = nn.CrossEntropyLoss()\n",
    "train_losses=[]\n",
    "valid_losses=[]\n",
    "\n",
    "def setlr(optimizer, lr):\n",
    "    for param_group in optimizer.param_groups:\n",
    "        param_group['lr'] = lr\n",
    "    return optimizer\n",
    "\n",
    "def lr_decay(optimizer, epoch):\n",
    "    if epoch%10==0:\n",
    "        new_lr = learning_rate / (10**(epoch//10))\n",
    "        optimizer = setlr(optimizer, new_lr)\n",
    "        print(f'Changed learning rate to {new_lr}')\n",
    "    return optimizer\n",
    "\n",
    "\n",
    "def train(model, loss_fn, train_loader, valid_loader, epochs, optimizer, train_losses, valid_losses, change_lr=None):\n",
    "  for epoch in tqdm(range(1,epochs+1)):\n",
    "    model.train()\n",
    "    batch_losses=[]\n",
    "    if change_lr:\n",
    "      optimizer = change_lr(optimizer, epoch)\n",
    "    for i, data in enumerate(train_loader):\n",
    "      x, y = data\n",
    "      optimizer.zero_grad()\n",
    "      x = x.to(device, dtype=torch.float32)\n",
    "      y = y.to(device, dtype=torch.long)\n",
    "      y_hat = model(x)\n",
    "      loss = loss_fn(y_hat, y)\n",
    "      loss.backward()\n",
    "      batch_losses.append(loss.item())\n",
    "      optimizer.step()\n",
    "    train_losses.append(batch_losses)\n",
    "    print(f'Epoch - {epoch} Train-Loss : {np.mean(train_losses[-1])}')\n",
    "    model.eval()\n",
    "    batch_losses=[]\n",
    "    trace_y = []\n",
    "    trace_yhat = []\n",
    "    for i, data in enumerate(valid_loader):\n",
    "      x, y = data\n",
    "      x = x.to(device, dtype=torch.float32)\n",
    "      y = y.to(device, dtype=torch.long)\n",
    "      y_hat = model(x)\n",
    "      loss = loss_fn(y_hat, y)\n",
    "      trace_y.append(y.cpu().detach().numpy())\n",
    "      trace_yhat.append(y_hat.cpu().detach().numpy())      \n",
    "      batch_losses.append(loss.item())\n",
    "    valid_losses.append(batch_losses)\n",
    "    trace_y = np.concatenate(trace_y)\n",
    "    trace_yhat = np.concatenate(trace_yhat)\n",
    "    accuracy = np.mean(trace_yhat.argmax(axis=1)==trace_y)\n",
    "    print(f'Epoch - {epoch} Valid-Loss : {np.mean(valid_losses[-1])} Valid-Accuracy : {accuracy}')"
   ]
  },
  {
   "cell_type": "code",
   "execution_count": 111,
   "id": "3d2646c2",
   "metadata": {},
   "outputs": [
    {
     "name": "stderr",
     "output_type": "stream",
     "text": [
      "  0%|                                                                                           | 0/50 [00:00<?, ?it/s]"
     ]
    },
    {
     "name": "stdout",
     "output_type": "stream",
     "text": [
      "Epoch - 1 Train-Loss : 1.923421493598393\n"
     ]
    },
    {
     "name": "stderr",
     "output_type": "stream",
     "text": [
      "  2%|█▋                                                                                 | 1/50 [01:00<49:05, 60.12s/it]"
     ]
    },
    {
     "name": "stdout",
     "output_type": "stream",
     "text": [
      "Epoch - 1 Valid-Loss : 53.97963409423828 Valid-Accuracy : 0.5736434108527132\n",
      "Epoch - 2 Train-Loss : 0.8270433800561088\n"
     ]
    },
    {
     "name": "stderr",
     "output_type": "stream",
     "text": [
      "  4%|███▎                                                                               | 2/50 [01:59<47:58, 59.96s/it]"
     ]
    },
    {
     "name": "stdout",
     "output_type": "stream",
     "text": [
      "Epoch - 2 Valid-Loss : 16.46414089202881 Valid-Accuracy : 0.5426356589147286\n",
      "Epoch - 3 Train-Loss : 0.6366276698453086\n"
     ]
    },
    {
     "name": "stderr",
     "output_type": "stream",
     "text": [
      "  6%|████▉                                                                              | 3/50 [02:59<46:56, 59.93s/it]"
     ]
    },
    {
     "name": "stdout",
     "output_type": "stream",
     "text": [
      "Epoch - 3 Valid-Loss : 3.4963600635528564 Valid-Accuracy : 0.6434108527131783\n",
      "Epoch - 4 Train-Loss : 0.5536006050450462\n"
     ]
    },
    {
     "name": "stderr",
     "output_type": "stream",
     "text": [
      "  8%|██████▋                                                                            | 4/50 [03:59<45:56, 59.93s/it]"
     ]
    },
    {
     "name": "stdout",
     "output_type": "stream",
     "text": [
      "Epoch - 4 Valid-Loss : 1.3197396708652378 Valid-Accuracy : 0.6589147286821705\n",
      "Epoch - 5 Train-Loss : 0.5869782396725246\n"
     ]
    },
    {
     "name": "stderr",
     "output_type": "stream",
     "text": [
      " 10%|████████▎                                                                          | 5/50 [05:00<45:04, 60.10s/it]"
     ]
    },
    {
     "name": "stdout",
     "output_type": "stream",
     "text": [
      "Epoch - 5 Valid-Loss : 1.3010918617248535 Valid-Accuracy : 0.5968992248062015\n",
      "Epoch - 6 Train-Loss : 0.5248341688088008\n"
     ]
    },
    {
     "name": "stderr",
     "output_type": "stream",
     "text": [
      " 12%|█████████▉                                                                         | 6/50 [06:00<44:03, 60.09s/it]"
     ]
    },
    {
     "name": "stdout",
     "output_type": "stream",
     "text": [
      "Epoch - 6 Valid-Loss : 0.9647044509649276 Valid-Accuracy : 0.6589147286821705\n",
      "Epoch - 7 Train-Loss : 0.45546887602124897\n"
     ]
    },
    {
     "name": "stderr",
     "output_type": "stream",
     "text": [
      " 14%|███████████▌                                                                       | 7/50 [07:14<46:16, 64.56s/it]"
     ]
    },
    {
     "name": "stdout",
     "output_type": "stream",
     "text": [
      "Epoch - 7 Valid-Loss : 0.9271801844239235 Valid-Accuracy : 0.6744186046511628\n",
      "Epoch - 8 Train-Loss : 0.34151940260614666\n"
     ]
    },
    {
     "name": "stderr",
     "output_type": "stream",
     "text": [
      " 16%|█████████████▎                                                                     | 8/50 [08:49<52:10, 74.53s/it]"
     ]
    },
    {
     "name": "stdout",
     "output_type": "stream",
     "text": [
      "Epoch - 8 Valid-Loss : 1.0426271496340633 Valid-Accuracy : 0.6201550387596899\n",
      "Epoch - 9 Train-Loss : 0.37917985234941753\n"
     ]
    },
    {
     "name": "stderr",
     "output_type": "stream",
     "text": [
      " 18%|██████████████▉                                                                    | 9/50 [10:24<55:18, 80.93s/it]"
     ]
    },
    {
     "name": "stdout",
     "output_type": "stream",
     "text": [
      "Epoch - 9 Valid-Loss : 0.9087175887078047 Valid-Accuracy : 0.6356589147286822\n",
      "Changed learning rate to 0.0001\n",
      "Epoch - 10 Train-Loss : 0.34076561885220663\n"
     ]
    },
    {
     "name": "stderr",
     "output_type": "stream",
     "text": [
      " 20%|████████████████▍                                                                 | 10/50 [11:59<56:48, 85.21s/it]"
     ]
    },
    {
     "name": "stdout",
     "output_type": "stream",
     "text": [
      "Epoch - 10 Valid-Loss : 0.7171659462153912 Valid-Accuracy : 0.7054263565891473\n",
      "Epoch - 11 Train-Loss : 0.2426596007176808\n"
     ]
    },
    {
     "name": "stderr",
     "output_type": "stream",
     "text": [
      " 22%|██████████████████                                                                | 11/50 [13:35<57:23, 88.30s/it]"
     ]
    },
    {
     "name": "stdout",
     "output_type": "stream",
     "text": [
      "Epoch - 11 Valid-Loss : 0.6967269104905427 Valid-Accuracy : 0.7364341085271318\n",
      "Epoch - 12 Train-Loss : 0.1735053158232144\n"
     ]
    },
    {
     "name": "stderr",
     "output_type": "stream",
     "text": [
      " 24%|███████████████████▋                                                              | 12/50 [15:09<57:01, 90.03s/it]"
     ]
    },
    {
     "name": "stdout",
     "output_type": "stream",
     "text": [
      "Epoch - 12 Valid-Loss : 0.7854692251421511 Valid-Accuracy : 0.689922480620155\n",
      "Epoch - 13 Train-Loss : 0.184777526983193\n"
     ]
    },
    {
     "name": "stderr",
     "output_type": "stream",
     "text": [
      " 26%|█████████████████████▎                                                            | 13/50 [16:42<56:09, 91.06s/it]"
     ]
    },
    {
     "name": "stdout",
     "output_type": "stream",
     "text": [
      "Epoch - 13 Valid-Loss : 0.7273578204214572 Valid-Accuracy : 0.7286821705426356\n",
      "Epoch - 14 Train-Loss : 0.1518989141498293\n"
     ]
    },
    {
     "name": "stderr",
     "output_type": "stream",
     "text": [
      " 28%|██████████████████████▉                                                           | 14/50 [18:37<58:58, 98.30s/it]"
     ]
    },
    {
     "name": "stdout",
     "output_type": "stream",
     "text": [
      "Epoch - 14 Valid-Loss : 0.7214476451277733 Valid-Accuracy : 0.7441860465116279\n",
      "Epoch - 15 Train-Loss : 0.15037582282509124\n"
     ]
    },
    {
     "name": "stderr",
     "output_type": "stream",
     "text": [
      " 30%|████████████████████████▌                                                         | 15/50 [20:15<57:19, 98.27s/it]"
     ]
    },
    {
     "name": "stdout",
     "output_type": "stream",
     "text": [
      "Epoch - 15 Valid-Loss : 0.688982991874218 Valid-Accuracy : 0.751937984496124\n",
      "Epoch - 16 Train-Loss : 0.12644917890429497\n"
     ]
    },
    {
     "name": "stderr",
     "output_type": "stream",
     "text": [
      " 32%|██████████████████████████▏                                                       | 16/50 [21:55<55:59, 98.80s/it]"
     ]
    },
    {
     "name": "stdout",
     "output_type": "stream",
     "text": [
      "Epoch - 16 Valid-Loss : 0.7097935740835964 Valid-Accuracy : 0.7209302325581395\n",
      "Epoch - 17 Train-Loss : 0.11949668079614639\n"
     ]
    },
    {
     "name": "stderr",
     "output_type": "stream",
     "text": [
      " 34%|███████████████████████████▉                                                      | 17/50 [23:37<54:53, 99.80s/it]"
     ]
    },
    {
     "name": "stdout",
     "output_type": "stream",
     "text": [
      "Epoch - 17 Valid-Loss : 0.7121716877445579 Valid-Accuracy : 0.7364341085271318\n",
      "Epoch - 18 Train-Loss : 0.10040945133992604\n"
     ]
    },
    {
     "name": "stderr",
     "output_type": "stream",
     "text": [
      " 36%|█████████████████████████████▌                                                    | 18/50 [25:15<52:53, 99.18s/it]"
     ]
    },
    {
     "name": "stdout",
     "output_type": "stream",
     "text": [
      "Epoch - 18 Valid-Loss : 0.7321842839941383 Valid-Accuracy : 0.7751937984496124\n",
      "Epoch - 19 Train-Loss : 0.08582908127989088\n"
     ]
    },
    {
     "name": "stderr",
     "output_type": "stream",
     "text": [
      " 38%|███████████████████████████████▏                                                  | 19/50 [26:55<51:25, 99.54s/it]"
     ]
    },
    {
     "name": "stdout",
     "output_type": "stream",
     "text": [
      "Epoch - 19 Valid-Loss : 0.7285110439173877 Valid-Accuracy : 0.7364341085271318\n",
      "Changed learning rate to 1e-05\n",
      "Epoch - 20 Train-Loss : 0.07317103179437774\n"
     ]
    },
    {
     "name": "stderr",
     "output_type": "stream",
     "text": [
      " 40%|████████████████████████████████▊                                                 | 20/50 [28:29<48:50, 97.69s/it]"
     ]
    },
    {
     "name": "stdout",
     "output_type": "stream",
     "text": [
      "Epoch - 20 Valid-Loss : 0.7333291193004697 Valid-Accuracy : 0.7364341085271318\n",
      "Epoch - 21 Train-Loss : 0.09322111468229975\n"
     ]
    },
    {
     "name": "stderr",
     "output_type": "stream",
     "text": [
      " 42%|██████████████████████████████████▍                                               | 21/50 [30:08<47:26, 98.16s/it]"
     ]
    },
    {
     "name": "stdout",
     "output_type": "stream",
     "text": [
      "Epoch - 21 Valid-Loss : 0.7408335331361741 Valid-Accuracy : 0.751937984496124\n",
      "Epoch - 22 Train-Loss : 0.0957000016101769\n"
     ]
    },
    {
     "name": "stderr",
     "output_type": "stream",
     "text": [
      " 44%|████████████████████████████████████                                              | 22/50 [31:47<45:57, 98.49s/it]"
     ]
    },
    {
     "name": "stdout",
     "output_type": "stream",
     "text": [
      "Epoch - 22 Valid-Loss : 0.7480191218899563 Valid-Accuracy : 0.7441860465116279\n",
      "Epoch - 23 Train-Loss : 0.06473044332649026\n"
     ]
    },
    {
     "name": "stderr",
     "output_type": "stream",
     "text": [
      " 46%|█████████████████████████████████████▋                                            | 23/50 [33:29<44:42, 99.36s/it]"
     ]
    },
    {
     "name": "stdout",
     "output_type": "stream",
     "text": [
      "Epoch - 23 Valid-Loss : 0.7572813563747332 Valid-Accuracy : 0.7286821705426356\n",
      "Epoch - 24 Train-Loss : 0.0716392882168293\n"
     ]
    },
    {
     "name": "stderr",
     "output_type": "stream",
     "text": [
      " 48%|███████████████████████████████████████▎                                          | 24/50 [35:07<42:53, 98.97s/it]"
     ]
    },
    {
     "name": "stdout",
     "output_type": "stream",
     "text": [
      "Epoch - 24 Valid-Loss : 0.7640507027041167 Valid-Accuracy : 0.7286821705426356\n",
      "Epoch - 25 Train-Loss : 0.0906299916761262\n"
     ]
    },
    {
     "name": "stderr",
     "output_type": "stream",
     "text": [
      " 50%|█████████████████████████████████████████                                         | 25/50 [36:46<41:13, 98.93s/it]"
     ]
    },
    {
     "name": "stdout",
     "output_type": "stream",
     "text": [
      "Epoch - 25 Valid-Loss : 0.7577235589269549 Valid-Accuracy : 0.7441860465116279\n",
      "Epoch - 26 Train-Loss : 0.0805048830807209\n"
     ]
    },
    {
     "name": "stderr",
     "output_type": "stream",
     "text": [
      " 52%|██████████████████████████████████████████▋                                       | 26/50 [38:24<39:30, 98.78s/it]"
     ]
    },
    {
     "name": "stdout",
     "output_type": "stream",
     "text": [
      "Epoch - 26 Valid-Loss : 0.7510655310936272 Valid-Accuracy : 0.751937984496124\n",
      "Epoch - 27 Train-Loss : 0.0636359735258988\n"
     ]
    },
    {
     "name": "stderr",
     "output_type": "stream",
     "text": [
      " 54%|████████████████████████████████████████████▎                                     | 27/50 [40:00<37:32, 97.95s/it]"
     ]
    },
    {
     "name": "stdout",
     "output_type": "stream",
     "text": [
      "Epoch - 27 Valid-Loss : 0.7507067266851664 Valid-Accuracy : 0.7596899224806202\n",
      "Epoch - 28 Train-Loss : 0.08379643463662692\n"
     ]
    },
    {
     "name": "stderr",
     "output_type": "stream",
     "text": [
      " 56%|█████████████████████████████████████████████▉                                    | 28/50 [41:32<35:16, 96.18s/it]"
     ]
    },
    {
     "name": "stdout",
     "output_type": "stream",
     "text": [
      "Epoch - 28 Valid-Loss : 0.7561904627364129 Valid-Accuracy : 0.751937984496124\n",
      "Epoch - 29 Train-Loss : 0.07813564554921218\n"
     ]
    },
    {
     "name": "stderr",
     "output_type": "stream",
     "text": [
      " 58%|███████████████████████████████████████████████▌                                  | 29/50 [43:04<33:14, 94.96s/it]"
     ]
    },
    {
     "name": "stdout",
     "output_type": "stream",
     "text": [
      "Epoch - 29 Valid-Loss : 0.7631872653495521 Valid-Accuracy : 0.7596899224806202\n",
      "Changed learning rate to 1e-06\n",
      "Epoch - 30 Train-Loss : 0.05967196609292712\n"
     ]
    },
    {
     "name": "stderr",
     "output_type": "stream",
     "text": [
      " 60%|█████████████████████████████████████████████████▏                                | 30/50 [44:36<31:18, 93.94s/it]"
     ]
    },
    {
     "name": "stdout",
     "output_type": "stream",
     "text": [
      "Epoch - 30 Valid-Loss : 0.7655627614236437 Valid-Accuracy : 0.7596899224806202\n",
      "Epoch - 31 Train-Loss : 0.09329502045043878\n"
     ]
    },
    {
     "name": "stderr",
     "output_type": "stream",
     "text": [
      " 62%|██████████████████████████████████████████████████▊                               | 31/50 [46:08<29:34, 93.39s/it]"
     ]
    },
    {
     "name": "stdout",
     "output_type": "stream",
     "text": [
      "Epoch - 31 Valid-Loss : 0.7642233810969629 Valid-Accuracy : 0.7596899224806202\n",
      "Epoch - 32 Train-Loss : 0.08411348611116409\n"
     ]
    },
    {
     "name": "stderr",
     "output_type": "stream",
     "text": [
      " 64%|████████████████████████████████████████████████████▍                             | 32/50 [47:44<28:14, 94.12s/it]"
     ]
    },
    {
     "name": "stdout",
     "output_type": "stream",
     "text": [
      "Epoch - 32 Valid-Loss : 0.7712466464028693 Valid-Accuracy : 0.7364341085271318\n",
      "Epoch - 33 Train-Loss : 0.06636526515441281\n"
     ]
    },
    {
     "name": "stderr",
     "output_type": "stream",
     "text": [
      " 66%|██████████████████████████████████████████████████████                            | 33/50 [49:17<26:35, 93.87s/it]"
     ]
    },
    {
     "name": "stdout",
     "output_type": "stream",
     "text": [
      "Epoch - 33 Valid-Loss : 0.7627246087417007 Valid-Accuracy : 0.751937984496124\n",
      "Epoch - 34 Train-Loss : 0.04979337565600872\n"
     ]
    },
    {
     "name": "stderr",
     "output_type": "stream",
     "text": [
      " 68%|███████████████████████████████████████████████████████▊                          | 34/50 [50:49<24:54, 93.40s/it]"
     ]
    },
    {
     "name": "stdout",
     "output_type": "stream",
     "text": [
      "Epoch - 34 Valid-Loss : 0.7591344177024439 Valid-Accuracy : 0.751937984496124\n",
      "Epoch - 35 Train-Loss : 0.07078004122844764\n"
     ]
    },
    {
     "name": "stderr",
     "output_type": "stream",
     "text": [
      " 70%|█████████████████████████████████████████████████████████▍                        | 35/50 [52:21<23:14, 92.99s/it]"
     ]
    },
    {
     "name": "stdout",
     "output_type": "stream",
     "text": [
      "Epoch - 35 Valid-Loss : 0.7661732632433995 Valid-Accuracy : 0.7596899224806202\n",
      "Epoch - 36 Train-Loss : 0.05899316817522049\n"
     ]
    },
    {
     "name": "stderr",
     "output_type": "stream",
     "text": [
      " 72%|███████████████████████████████████████████████████████████                       | 36/50 [53:45<21:02, 90.19s/it]"
     ]
    },
    {
     "name": "stdout",
     "output_type": "stream",
     "text": [
      "Epoch - 36 Valid-Loss : 0.7626673562452198 Valid-Accuracy : 0.7596899224806202\n",
      "Epoch - 37 Train-Loss : 0.05413678873862539\n"
     ]
    },
    {
     "name": "stderr",
     "output_type": "stream",
     "text": [
      " 74%|████████████████████████████████████████████████████████████▋                     | 37/50 [54:46<17:38, 81.42s/it]"
     ]
    },
    {
     "name": "stdout",
     "output_type": "stream",
     "text": [
      "Epoch - 37 Valid-Loss : 0.7599284204654395 Valid-Accuracy : 0.7596899224806202\n",
      "Epoch - 38 Train-Loss : 0.06458819098770618\n"
     ]
    },
    {
     "name": "stderr",
     "output_type": "stream",
     "text": [
      " 76%|██████████████████████████████████████████████████████████████▎                   | 38/50 [55:46<14:59, 74.96s/it]"
     ]
    },
    {
     "name": "stdout",
     "output_type": "stream",
     "text": [
      "Epoch - 38 Valid-Loss : 0.7565866352990269 Valid-Accuracy : 0.751937984496124\n",
      "Epoch - 39 Train-Loss : 0.05302569562835353\n"
     ]
    },
    {
     "name": "stderr",
     "output_type": "stream",
     "text": [
      " 78%|███████████████████████████████████████████████████████████████▉                  | 39/50 [56:46<12:54, 70.41s/it]"
     ]
    },
    {
     "name": "stdout",
     "output_type": "stream",
     "text": [
      "Epoch - 39 Valid-Loss : 0.7598939215065912 Valid-Accuracy : 0.751937984496124\n",
      "Changed learning rate to 1e-07\n",
      "Epoch - 40 Train-Loss : 0.07853783028466362\n"
     ]
    },
    {
     "name": "stderr",
     "output_type": "stream",
     "text": [
      " 80%|█████████████████████████████████████████████████████████████████▌                | 40/50 [57:45<11:12, 67.22s/it]"
     ]
    },
    {
     "name": "stdout",
     "output_type": "stream",
     "text": [
      "Epoch - 40 Valid-Loss : 0.7650896833511069 Valid-Accuracy : 0.7596899224806202\n",
      "Epoch - 41 Train-Loss : 0.053354651268039434\n"
     ]
    },
    {
     "name": "stderr",
     "output_type": "stream",
     "text": [
      " 82%|███████████████████████████████████████████████████████████████████▏              | 41/50 [58:45<09:45, 65.05s/it]"
     ]
    },
    {
     "name": "stdout",
     "output_type": "stream",
     "text": [
      "Epoch - 41 Valid-Loss : 0.7620421175146476 Valid-Accuracy : 0.751937984496124\n",
      "Epoch - 42 Train-Loss : 0.1054398946996246\n"
     ]
    },
    {
     "name": "stderr",
     "output_type": "stream",
     "text": [
      " 84%|████████████████████████████████████████████████████████████████████▉             | 42/50 [59:45<08:27, 63.42s/it]"
     ]
    },
    {
     "name": "stdout",
     "output_type": "stream",
     "text": [
      "Epoch - 42 Valid-Loss : 0.7620898613007739 Valid-Accuracy : 0.7596899224806202\n",
      "Epoch - 43 Train-Loss : 0.05875586585274765\n"
     ]
    },
    {
     "name": "stderr",
     "output_type": "stream",
     "text": [
      " 86%|████████████████████████████████████████████████████████████████████▊           | 43/50 [1:00:45<07:16, 62.33s/it]"
     ]
    },
    {
     "name": "stdout",
     "output_type": "stream",
     "text": [
      "Epoch - 43 Valid-Loss : 0.7669167795917019 Valid-Accuracy : 0.751937984496124\n",
      "Epoch - 44 Train-Loss : 0.048024361953139305\n"
     ]
    },
    {
     "name": "stderr",
     "output_type": "stream",
     "text": [
      " 88%|██████████████████████████████████████████████████████████████████████▍         | 44/50 [1:01:45<06:09, 61.54s/it]"
     ]
    },
    {
     "name": "stdout",
     "output_type": "stream",
     "text": [
      "Epoch - 44 Valid-Loss : 0.762824552715756 Valid-Accuracy : 0.7596899224806202\n",
      "Epoch - 45 Train-Loss : 0.0876713443015303\n"
     ]
    },
    {
     "name": "stderr",
     "output_type": "stream",
     "text": [
      " 90%|████████████████████████████████████████████████████████████████████████        | 45/50 [1:02:44<05:04, 60.99s/it]"
     ]
    },
    {
     "name": "stdout",
     "output_type": "stream",
     "text": [
      "Epoch - 45 Valid-Loss : 0.7574347674380988 Valid-Accuracy : 0.7441860465116279\n",
      "Epoch - 46 Train-Loss : 0.07094605612967696\n"
     ]
    },
    {
     "name": "stderr",
     "output_type": "stream",
     "text": [
      " 92%|█████████████████████████████████████████████████████████████████████████▌      | 46/50 [1:03:44<04:02, 60.71s/it]"
     ]
    },
    {
     "name": "stdout",
     "output_type": "stream",
     "text": [
      "Epoch - 46 Valid-Loss : 0.7602923642145469 Valid-Accuracy : 0.751937984496124\n",
      "Epoch - 47 Train-Loss : 0.0820577469255243\n"
     ]
    },
    {
     "name": "stderr",
     "output_type": "stream",
     "text": [
      " 94%|███████████████████████████████████████████████████████████████████████████▏    | 47/50 [1:04:44<03:01, 60.37s/it]"
     ]
    },
    {
     "name": "stdout",
     "output_type": "stream",
     "text": [
      "Epoch - 47 Valid-Loss : 0.7670799216255546 Valid-Accuracy : 0.7596899224806202\n",
      "Epoch - 48 Train-Loss : 0.07913595996797085\n"
     ]
    },
    {
     "name": "stderr",
     "output_type": "stream",
     "text": [
      " 96%|████████████████████████████████████████████████████████████████████████████▊   | 48/50 [1:05:44<02:00, 60.20s/it]"
     ]
    },
    {
     "name": "stdout",
     "output_type": "stream",
     "text": [
      "Epoch - 48 Valid-Loss : 0.7661629635374994 Valid-Accuracy : 0.751937984496124\n",
      "Epoch - 49 Train-Loss : 0.07598633744886943\n"
     ]
    },
    {
     "name": "stderr",
     "output_type": "stream",
     "text": [
      " 98%|██████████████████████████████████████████████████████████████████████████████▍ | 49/50 [1:06:43<00:59, 59.97s/it]"
     ]
    },
    {
     "name": "stdout",
     "output_type": "stream",
     "text": [
      "Epoch - 49 Valid-Loss : 0.7580497388960794 Valid-Accuracy : 0.751937984496124\n",
      "Changed learning rate to 1e-08\n",
      "Epoch - 50 Train-Loss : 0.043643808524523466\n"
     ]
    },
    {
     "name": "stderr",
     "output_type": "stream",
     "text": [
      "100%|████████████████████████████████████████████████████████████████████████████████| 50/50 [1:07:43<00:00, 81.27s/it]"
     ]
    },
    {
     "name": "stdout",
     "output_type": "stream",
     "text": [
      "Epoch - 50 Valid-Loss : 0.761581274587661 Valid-Accuracy : 0.751937984496124\n"
     ]
    },
    {
     "name": "stderr",
     "output_type": "stream",
     "text": [
      "\n"
     ]
    }
   ],
   "source": [
    "train(net, loss_fn, loader_train, loader_test, num_epochs, optimizer, train_losses, valid_losses, lr_decay)"
   ]
  },
  {
   "cell_type": "code",
   "execution_count": 113,
   "id": "d74f0479",
   "metadata": {},
   "outputs": [],
   "source": [
    "torch.save(net.state_dict(),\"C:\\\\Users\\\\mdsp\\\\Downloads\\\\experiments\\\\model\\\\checkpoint.pth\")"
   ]
  },
  {
   "cell_type": "code",
   "execution_count": null,
   "id": "8fe21107",
   "metadata": {},
   "outputs": [],
   "source": []
  }
 ],
 "metadata": {
  "kernelspec": {
   "display_name": "Python 3",
   "language": "python",
   "name": "python3"
  },
  "language_info": {
   "codemirror_mode": {
    "name": "ipython",
    "version": 3
   },
   "file_extension": ".py",
   "mimetype": "text/x-python",
   "name": "python",
   "nbconvert_exporter": "python",
   "pygments_lexer": "ipython3",
   "version": "3.8.8"
  }
 },
 "nbformat": 4,
 "nbformat_minor": 5
}
