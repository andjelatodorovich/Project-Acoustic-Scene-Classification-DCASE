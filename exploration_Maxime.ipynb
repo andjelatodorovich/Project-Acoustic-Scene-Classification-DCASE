{
 "cells": [
  {
   "cell_type": "code",
   "execution_count": 1,
   "metadata": {},
   "outputs": [],
   "source": [
    "import torch\n",
    "import torch.nn as nn"
   ]
  },
  {
   "cell_type": "code",
   "execution_count": 2,
   "metadata": {},
   "outputs": [],
   "source": [
    "import torch\n",
    "import torchvision.models as models"
   ]
  },
  {
   "cell_type": "code",
   "execution_count": 3,
   "metadata": {},
   "outputs": [],
   "source": [
    "def count_parameters(model):\n",
    "    return sum(p.numel() for p in model.parameters() if p.requires_grad)\n"
   ]
  },
  {
   "cell_type": "code",
   "execution_count": 4,
   "metadata": {},
   "outputs": [],
   "source": [
    "import pandas as pd\n",
    "import torch\n",
    "import torchaudio\n",
    "from torch.utils.data import Dataset\n",
    "\n",
    "\n",
    "class DCaseDataset(Dataset):\n",
    "    \"\"\"\n",
    "    Dataloader for DCase dataset\n",
    "    Structure of the class is taken from:\n",
    "    https://colab.research.google.com/github/pytorch/tutorials/blob/gh-pages/_downloads/audio_classifier_tutorial.ipynb\n",
    "    \"\"\"\n",
    "\n",
    "    labelind2name = {\n",
    "        0: \"airport\",\n",
    "        1: \"bus\",\n",
    "        2: \"metro\",\n",
    "        3: \"metro_station\",\n",
    "        4: \"park\",\n",
    "        5: \"public_square\",\n",
    "        6: \"shopping_mall\",\n",
    "        7: \"street_pedestrian\",\n",
    "        8: \"street_traffic\",\n",
    "        9: \"tram\",\n",
    "    }\n",
    "    name2labelind = {\n",
    "        \"airport\": 0,\n",
    "        \"bus\": 1,\n",
    "        \"metro\": 2,\n",
    "        \"metro_station\": 3,\n",
    "        \"park\": 4,\n",
    "        \"public_square\": 5,\n",
    "        \"shopping_mall\": 6,\n",
    "        \"street_pedestrian\": 7,\n",
    "        \"street_traffic\": 8,\n",
    "        \"tram\": 9,\n",
    "    }\n",
    "\n",
    "    def __init__(self, root_dir, csv_path, indices):\n",
    "        \"\"\"\n",
    "\n",
    "        :param root_dir:\n",
    "        :param split:\n",
    "        \"\"\"\n",
    "\n",
    "        # Open csv files\n",
    "        self.root_dir = root_dir\n",
    "        #if split == \"train\":\n",
    "        #    csv_path = root_dir + \"/evaluation_setup/fold1_train.csv\"\n",
    "        #    meta_path = root_dir + \"/meta.csv\"\n",
    "        #elif split == \"val\":\n",
    "        #    csv_path = root_dir + \"/evaluation_setup/fold1_evaluate.csv\"\n",
    "        #    meta_path = root_dir + \"/meta.csv\"\n",
    "        #elif split == \"test\":\n",
    "        #    csv_path = root_dir + \"/evaluation_setup/fold1_test.csv\"\n",
    "        #    meta_path = None\n",
    "        #else:\n",
    "        #    raise ValueError(\"Split not implemented\")\n",
    "        \n",
    "        csvData = pd.read_csv(csv_path, sep=\"\\t\")\n",
    "        csvData[\"label\"] = csvData.apply(lambda x: x[\"filename\"].split(\"-\")[0], axis=1)\n",
    "        #metaData = pd.read_csv(meta_path, sep=\"\\t\") if meta_path is not None else None\n",
    "\n",
    "        # In test mode, just get file list\n",
    "        #if split == \"test\":\n",
    "        #    self.file_names = []\n",
    "        #    for i in range(0, len(csvData)):\n",
    "        #        self.file_names.append(csvData.iloc[i, 0])\n",
    "        #    return\n",
    "\n",
    "        # Lists of file names and labels\n",
    "        self.file_names, self.labels = [], []\n",
    "        for i in indices:\n",
    "            self.file_names.append(csvData.iloc[i, 0])\n",
    "            self.labels.append(csvData.iloc[i, 1])\n",
    "\n",
    "        # Device for each audio file\n",
    "        # self.devices = {}\n",
    "        # for i in range(0, len(metaData)):\n",
    "        #    self.devices[metaData.iloc[i, 0]] = metaData.iloc[i, 3]\n",
    "\n",
    "        # Transform class name to index\n",
    "        self.labels = [self.name2labelind[name] for name in self.labels]\n",
    "\n",
    "    def __getitem__(self, index):\n",
    "        \"\"\"\n",
    "\n",
    "        :param index:\n",
    "        :return:\n",
    "        \"\"\"\n",
    "\n",
    "        # Load data\n",
    "        filepath = self.root_dir + self.file_names[index]\n",
    "        sound, sfreq = torchaudio.load(filepath, normalize=True)\n",
    "        assert sound.shape[0] == 1, \"Expected mono channel\"\n",
    "        sound = torch.mean(sound, dim=0)\n",
    "        assert sfreq == 44100, \"Expected sampling rate of 44.1 kHz\"\n",
    "\n",
    "        # Remove last samples if longer than expected\n",
    "        if sound.shape[-1] >= 441000:\n",
    "            sound = sound[:441000]\n",
    "\n",
    "        return (\n",
    "                sound,\n",
    "                self.labels[index],\n",
    "                self.file_names[index]\n",
    "            )\n",
    "\n",
    "    def __len__(self):\n",
    "        return len(self.file_names)\n"
   ]
  },
  {
   "cell_type": "code",
   "execution_count": 5,
   "metadata": {},
   "outputs": [],
   "source": [
    "import os\n",
    "from sklearn.model_selection import train_test_split\n",
    "import numpy as np\n",
    "from torch.utils.data import DataLoader\n",
    "from sp4asc.models.cnns import LogMelSpectrogram\n",
    "from sp4asc.models import get_net\n",
    "from sp4asc.training import TrainingManager\n"
   ]
  },
  {
   "cell_type": "code",
   "execution_count": 6,
   "metadata": {},
   "outputs": [],
   "source": [
    "root_dir = \"/users/eleves-b/2019/maxime.bonnin/MAP583/TAU_SMALL_DATASET/test/\"\n",
    "csv_path = \"/users/eleves-b/2019/maxime.bonnin/MAP583/TAU_SMALL_DATASET/fold1_small_train.csv\"\n",
    "\n",
    "N = len(os.listdir(root_dir))\n",
    "train_indices, test_indices = train_test_split(np.arange(0,N), test_size=0.33)\n",
    "\n",
    "train_dataset = DCaseDataset(root_dir, csv_path, train_indices)\n",
    "test_dataset = DCaseDataset(root_dir, csv_path, test_indices)"
   ]
  },
  {
   "cell_type": "code",
   "execution_count": 26,
   "metadata": {},
   "outputs": [],
   "source": [
    "config = {\n",
    "    \"batchsize\": 32,\n",
    "    \"num_workers\": 4,\n",
    "    \"reload\": False,\n",
    "    \"net\": \"Cnn6_60k\",\n",
    "    \"dropout\": 0.2,\n",
    "    \"specAugment\": [128, 2, 16, 2],\n",
    "    \"lr\": 1e-3,\n",
    "    \"eta_min\": 1e-5,\n",
    "    \"max_epoch\": 100,\n",
    "    \"weight_decay\": 1e-5,\n",
    "    \"mixup_alpha\": 0.2,\n",
    "    \"out_dir\": \"./trained_models/\",\n",
    "}"
   ]
  },
  {
   "cell_type": "code",
   "execution_count": 27,
   "metadata": {},
   "outputs": [],
   "source": [
    "loader_train = DataLoader(\n",
    "        train_dataset,\n",
    "        batch_size=config[\"batchsize\"],\n",
    "        shuffle=True,\n",
    "        pin_memory=True,\n",
    "        num_workers=config[\"num_workers\"],\n",
    "        drop_last=True,\n",
    "    )\n",
    "loader_test = DataLoader(\n",
    "    test_dataset,\n",
    "    batch_size=config[\"batchsize\"],\n",
    "    shuffle=False,\n",
    "    pin_memory=True,\n",
    "    num_workers=config[\"num_workers\"],\n",
    "    drop_last=False,\n",
    ")"
   ]
  },
  {
   "cell_type": "code",
   "execution_count": 28,
   "metadata": {},
   "outputs": [
    {
     "name": "stdout",
     "output_type": "stream",
     "text": [
      "\n",
      "\n",
      "Net at training time\n",
      "Nb. of parameters at training time:  62.922 k\n"
     ]
    }
   ],
   "source": [
    "spectrogram = LogMelSpectrogram()\n",
    "net = get_net[config[\"net\"]](\n",
    "    config[\"dropout\"],\n",
    "    config[\"specAugment\"],\n",
    ")\n",
    "#net.load(pathModel, map_location=torch.device(\"cpu\"))\n",
    "#\n",
    "#for param in net.parameters():\n",
    "#    param.requires_grad = False\n",
    "#    \n",
    "#for param in net.fc2.parameters():\n",
    "#    param.requires_grad = True\n",
    "\n",
    "print(\"\\n\\nNet at training time\")\n",
    "print(\"Nb. of parameters at training time: \", count_parameters(net) / 1e3, \"k\")\n"
   ]
  },
  {
   "cell_type": "code",
   "execution_count": 29,
   "metadata": {},
   "outputs": [],
   "source": [
    "# make sure to load the pretrained model\n",
    "root = \"/users/eleves-b/2019/maxime.bonnin/\"\n",
    "pathModel = root + \"MAP583/trained_models/test1\""
   ]
  },
  {
   "cell_type": "code",
   "execution_count": null,
   "metadata": {},
   "outputs": [
    {
     "name": "stdout",
     "output_type": "stream",
     "text": [
      "\n",
      "Training: 0/100 epochs\n"
     ]
    },
    {
     "data": {
      "application/vnd.jupyter.widget-view+json": {
       "model_id": "2b79c3d003c5428392b1f41a831b0957",
       "version_major": 2,
       "version_minor": 0
      },
      "text/plain": [
       "       0%|                                                  | 0/62 [00:00<?, ?it/s]"
      ]
     },
     "metadata": {},
     "output_type": "display_data"
    },
    {
     "name": "stdout",
     "output_type": "stream",
     "text": [
      "\n",
      "Epoch: 0 : loss = 1.080 - acc1 = 68.750\n",
      "\n",
      "Epoch: 0 : loss = 1.185 - acc1 = 63.672\n",
      "\n",
      "Epoch: 0 : loss = 1.178 - acc1 = 63.333\n",
      "\n",
      "Epoch: 0 : loss = 1.176 - acc1 = 63.256\n",
      "\n",
      "Test:\n"
     ]
    },
    {
     "data": {
      "application/vnd.jupyter.widget-view+json": {
       "model_id": "3f42d22fa0134f4ea262ff06682c364a",
       "version_major": 2,
       "version_minor": 0
      },
      "text/plain": [
       "       0%|                                                  | 0/31 [00:00<?, ?it/s]"
      ]
     },
     "metadata": {},
     "output_type": "display_data"
    },
    {
     "name": "stdout",
     "output_type": "stream",
     "text": [
      "\n",
      "Epoch: 0 : loss = 0.853 - acc1 = 64.688\n",
      "\n",
      "Epoch: 0 : loss = 0.822 - acc1 = 67.344\n",
      "\n",
      "Epoch: 0 : loss = 0.853 - acc1 = 65.729\n",
      "\n",
      "Epoch: 0 : loss = 0.861 - acc1 = 65.816\n",
      "\n",
      "Training: 1/100 epochs\n"
     ]
    },
    {
     "data": {
      "application/vnd.jupyter.widget-view+json": {
       "model_id": "5b9e213248664f25a218a1cd8fc81cf6",
       "version_major": 2,
       "version_minor": 0
      },
      "text/plain": [
       "       0%|                                                  | 0/62 [00:00<?, ?it/s]"
      ]
     },
     "metadata": {},
     "output_type": "display_data"
    },
    {
     "name": "stdout",
     "output_type": "stream",
     "text": [
      "\n",
      "Epoch: 1 : loss = 1.098 - acc1 = 65.312\n",
      "\n",
      "Epoch: 1 : loss = 1.128 - acc1 = 64.453\n",
      "\n",
      "Epoch: 1 : loss = 1.212 - acc1 = 62.188\n",
      "\n",
      "Epoch: 1 : loss = 1.217 - acc1 = 62.147\n",
      "\n",
      "Test:\n"
     ]
    },
    {
     "data": {
      "application/vnd.jupyter.widget-view+json": {
       "model_id": "b3bd865bb06549de906a85a7631e390c",
       "version_major": 2,
       "version_minor": 0
      },
      "text/plain": [
       "       0%|                                                  | 0/31 [00:00<?, ?it/s]"
      ]
     },
     "metadata": {},
     "output_type": "display_data"
    },
    {
     "name": "stdout",
     "output_type": "stream",
     "text": [
      "\n",
      "Epoch: 1 : loss = 0.866 - acc1 = 64.688\n",
      "\n",
      "Epoch: 1 : loss = 0.830 - acc1 = 66.719\n",
      "\n",
      "Epoch: 1 : loss = 0.865 - acc1 = 64.792\n",
      "\n",
      "Epoch: 1 : loss = 0.870 - acc1 = 64.898\n",
      "\n",
      "Training: 2/100 epochs\n"
     ]
    },
    {
     "data": {
      "application/vnd.jupyter.widget-view+json": {
       "model_id": "b2efdd6050fa4046b48ff88f5ab142e5",
       "version_major": 2,
       "version_minor": 0
      },
      "text/plain": [
       "       0%|                                                  | 0/62 [00:00<?, ?it/s]"
      ]
     },
     "metadata": {},
     "output_type": "display_data"
    },
    {
     "name": "stdout",
     "output_type": "stream",
     "text": [
      "\n",
      "Epoch: 2 : loss = 1.149 - acc1 = 62.812\n",
      "\n",
      "Epoch: 2 : loss = 1.220 - acc1 = 62.812\n",
      "\n",
      "Epoch: 2 : loss = 1.256 - acc1 = 60.313\n",
      "\n",
      "Epoch: 2 : loss = 1.276 - acc1 = 59.879\n",
      "\n",
      "Test:\n"
     ]
    },
    {
     "data": {
      "application/vnd.jupyter.widget-view+json": {
       "model_id": "c05fddfb1f17483f8a625c3f9a666ea1",
       "version_major": 2,
       "version_minor": 0
      },
      "text/plain": [
       "       0%|                                                  | 0/31 [00:00<?, ?it/s]"
      ]
     },
     "metadata": {},
     "output_type": "display_data"
    },
    {
     "name": "stdout",
     "output_type": "stream",
     "text": [
      "\n",
      "Epoch: 2 : loss = 0.862 - acc1 = 65.625\n",
      "\n",
      "Epoch: 2 : loss = 0.824 - acc1 = 67.188\n",
      "\n",
      "Epoch: 2 : loss = 0.857 - acc1 = 65.312\n",
      "\n",
      "Epoch: 2 : loss = 0.865 - acc1 = 65.408\n",
      "\n",
      "Training: 3/100 epochs\n"
     ]
    },
    {
     "data": {
      "application/vnd.jupyter.widget-view+json": {
       "model_id": "df091292e71c4373951cf3614c2c91bf",
       "version_major": 2,
       "version_minor": 0
      },
      "text/plain": [
       "       0%|                                                  | 0/62 [00:00<?, ?it/s]"
      ]
     },
     "metadata": {},
     "output_type": "display_data"
    },
    {
     "name": "stdout",
     "output_type": "stream",
     "text": [
      "\n",
      "Epoch: 3 : loss = 1.315 - acc1 = 57.656\n",
      "\n",
      "Epoch: 3 : loss = 1.332 - acc1 = 57.891\n",
      "\n",
      "Epoch: 3 : loss = 1.333 - acc1 = 59.323\n",
      "\n",
      "Epoch: 3 : loss = 1.321 - acc1 = 59.476\n",
      "\n",
      "Test:\n"
     ]
    },
    {
     "data": {
      "application/vnd.jupyter.widget-view+json": {
       "model_id": "f661064c53d24a41b3705b9edac6c31e",
       "version_major": 2,
       "version_minor": 0
      },
      "text/plain": [
       "       0%|                                                  | 0/31 [00:00<?, ?it/s]"
      ]
     },
     "metadata": {},
     "output_type": "display_data"
    },
    {
     "name": "stdout",
     "output_type": "stream",
     "text": [
      "\n",
      "Epoch: 3 : loss = 0.856 - acc1 = 65.000\n",
      "\n",
      "Epoch: 3 : loss = 0.819 - acc1 = 67.500\n",
      "\n",
      "Epoch: 3 : loss = 0.853 - acc1 = 65.521\n",
      "\n",
      "Epoch: 3 : loss = 0.860 - acc1 = 65.612\n",
      "\n",
      "Training: 4/100 epochs\n"
     ]
    },
    {
     "data": {
      "application/vnd.jupyter.widget-view+json": {
       "model_id": "7ec18cab7aea4ec9b03b2ab9f6ffb125",
       "version_major": 2,
       "version_minor": 0
      },
      "text/plain": [
       "       0%|                                                  | 0/62 [00:00<?, ?it/s]"
      ]
     },
     "metadata": {},
     "output_type": "display_data"
    },
    {
     "name": "stdout",
     "output_type": "stream",
     "text": [
      "\n",
      "Epoch: 4 : loss = 1.339 - acc1 = 63.125\n",
      "\n",
      "Epoch: 4 : loss = 1.330 - acc1 = 61.328\n",
      "\n",
      "Epoch: 4 : loss = 1.271 - acc1 = 62.500\n",
      "\n",
      "Epoch: 4 : loss = 1.280 - acc1 = 62.550\n",
      "\n",
      "Test:\n"
     ]
    },
    {
     "data": {
      "application/vnd.jupyter.widget-view+json": {
       "model_id": "6bb04f624eab412d91b52f315df4ae43",
       "version_major": 2,
       "version_minor": 0
      },
      "text/plain": [
       "       0%|                                                  | 0/31 [00:00<?, ?it/s]"
      ]
     },
     "metadata": {},
     "output_type": "display_data"
    },
    {
     "name": "stdout",
     "output_type": "stream",
     "text": [
      "\n",
      "Epoch: 4 : loss = 0.857 - acc1 = 66.562\n",
      "\n",
      "Epoch: 4 : loss = 0.819 - acc1 = 68.281\n",
      "\n",
      "Epoch: 4 : loss = 0.851 - acc1 = 66.146\n",
      "\n",
      "Epoch: 4 : loss = 0.860 - acc1 = 66.224\n",
      "\n",
      "Training: 5/100 epochs\n"
     ]
    },
    {
     "data": {
      "application/vnd.jupyter.widget-view+json": {
       "model_id": "751cc449d09d4b63ac29f1f59b3f8cca",
       "version_major": 2,
       "version_minor": 0
      },
      "text/plain": [
       "       0%|                                                  | 0/62 [00:00<?, ?it/s]"
      ]
     },
     "metadata": {},
     "output_type": "display_data"
    },
    {
     "name": "stdout",
     "output_type": "stream",
     "text": [
      "\n",
      "Epoch: 5 : loss = 1.153 - acc1 = 65.000\n",
      "\n",
      "Epoch: 5 : loss = 1.214 - acc1 = 63.750\n",
      "\n",
      "Epoch: 5 : loss = 1.237 - acc1 = 63.125\n",
      "\n",
      "Epoch: 5 : loss = 1.243 - acc1 = 63.105\n",
      "\n",
      "Test:\n"
     ]
    },
    {
     "data": {
      "application/vnd.jupyter.widget-view+json": {
       "model_id": "b4c0d0acef3f4329a8b685a3fd809423",
       "version_major": 2,
       "version_minor": 0
      },
      "text/plain": [
       "       0%|                                                  | 0/31 [00:00<?, ?it/s]"
      ]
     },
     "metadata": {},
     "output_type": "display_data"
    },
    {
     "name": "stdout",
     "output_type": "stream",
     "text": [
      "\n",
      "Epoch: 5 : loss = 0.866 - acc1 = 64.688\n",
      "\n",
      "Epoch: 5 : loss = 0.826 - acc1 = 67.344\n",
      "\n",
      "Epoch: 5 : loss = 0.858 - acc1 = 66.042\n",
      "\n",
      "Epoch: 5 : loss = 0.866 - acc1 = 66.122\n",
      "\n",
      "Training: 6/100 epochs\n"
     ]
    },
    {
     "data": {
      "application/vnd.jupyter.widget-view+json": {
       "model_id": "e1a2949793bc40508610a83e8326c25a",
       "version_major": 2,
       "version_minor": 0
      },
      "text/plain": [
       "       0%|                                                  | 0/62 [00:00<?, ?it/s]"
      ]
     },
     "metadata": {},
     "output_type": "display_data"
    },
    {
     "name": "stdout",
     "output_type": "stream",
     "text": [
      "\n",
      "Epoch: 6 : loss = 1.259 - acc1 = 61.250\n",
      "\n",
      "Epoch: 6 : loss = 1.258 - acc1 = 61.250\n",
      "\n",
      "Epoch: 6 : loss = 1.218 - acc1 = 62.656\n",
      "\n",
      "Epoch: 6 : loss = 1.226 - acc1 = 62.349\n",
      "\n",
      "Test:\n"
     ]
    },
    {
     "data": {
      "application/vnd.jupyter.widget-view+json": {
       "model_id": "a2671d0b084141639bfa48bbf39e5f70",
       "version_major": 2,
       "version_minor": 0
      },
      "text/plain": [
       "       0%|                                                  | 0/31 [00:00<?, ?it/s]"
      ]
     },
     "metadata": {},
     "output_type": "display_data"
    },
    {
     "name": "stdout",
     "output_type": "stream",
     "text": [
      "\n",
      "Epoch: 6 : loss = 0.852 - acc1 = 67.188\n",
      "\n",
      "Epoch: 6 : loss = 0.817 - acc1 = 68.906\n",
      "\n",
      "Epoch: 6 : loss = 0.847 - acc1 = 66.979\n",
      "\n",
      "Epoch: 6 : loss = 0.855 - acc1 = 67.041\n",
      "\n",
      "Training: 7/100 epochs\n"
     ]
    },
    {
     "data": {
      "application/vnd.jupyter.widget-view+json": {
       "model_id": "de58a8374ffe4e019772123d1a8f9858",
       "version_major": 2,
       "version_minor": 0
      },
      "text/plain": [
       "       0%|                                                  | 0/62 [00:00<?, ?it/s]"
      ]
     },
     "metadata": {},
     "output_type": "display_data"
    },
    {
     "name": "stdout",
     "output_type": "stream",
     "text": [
      "\n",
      "Epoch: 7 : loss = 1.363 - acc1 = 57.500\n",
      "\n",
      "Epoch: 7 : loss = 1.271 - acc1 = 61.641\n",
      "\n",
      "Epoch: 7 : loss = 1.255 - acc1 = 62.813\n",
      "\n",
      "Epoch: 7 : loss = 1.262 - acc1 = 62.651\n",
      "\n",
      "Test:\n"
     ]
    },
    {
     "data": {
      "application/vnd.jupyter.widget-view+json": {
       "model_id": "1da10447b23147f9bfc1e32706965b22",
       "version_major": 2,
       "version_minor": 0
      },
      "text/plain": [
       "       0%|                                                  | 0/31 [00:00<?, ?it/s]"
      ]
     },
     "metadata": {},
     "output_type": "display_data"
    },
    {
     "name": "stdout",
     "output_type": "stream",
     "text": [
      "\n",
      "Epoch: 7 : loss = 0.855 - acc1 = 67.188\n",
      "\n",
      "Epoch: 7 : loss = 0.820 - acc1 = 68.281\n",
      "\n",
      "Epoch: 7 : loss = 0.853 - acc1 = 66.562\n",
      "\n",
      "Epoch: 7 : loss = 0.860 - acc1 = 66.633\n",
      "\n",
      "Training: 8/100 epochs\n"
     ]
    },
    {
     "data": {
      "application/vnd.jupyter.widget-view+json": {
       "model_id": "911c893976eb4114af3954ef1ea2101e",
       "version_major": 2,
       "version_minor": 0
      },
      "text/plain": [
       "       0%|                                                  | 0/62 [00:00<?, ?it/s]"
      ]
     },
     "metadata": {},
     "output_type": "display_data"
    },
    {
     "name": "stdout",
     "output_type": "stream",
     "text": [
      "\n",
      "Epoch: 8 : loss = 1.248 - acc1 = 61.406\n",
      "\n",
      "Epoch: 8 : loss = 1.200 - acc1 = 63.125\n",
      "\n",
      "Epoch: 8 : loss = 1.201 - acc1 = 62.813\n",
      "\n",
      "Epoch: 8 : loss = 1.197 - acc1 = 63.004\n",
      "\n",
      "Test:\n"
     ]
    },
    {
     "data": {
      "application/vnd.jupyter.widget-view+json": {
       "model_id": "6e5c59b7c96b4dd79e105df7c7d060c4",
       "version_major": 2,
       "version_minor": 0
      },
      "text/plain": [
       "       0%|                                                  | 0/31 [00:00<?, ?it/s]"
      ]
     },
     "metadata": {},
     "output_type": "display_data"
    },
    {
     "name": "stdout",
     "output_type": "stream",
     "text": [
      "\n",
      "Epoch: 8 : loss = 0.860 - acc1 = 65.000\n",
      "\n",
      "Epoch: 8 : loss = 0.824 - acc1 = 68.125\n",
      "\n",
      "Epoch: 8 : loss = 0.858 - acc1 = 66.042\n",
      "\n",
      "Epoch: 8 : loss = 0.866 - acc1 = 66.122\n",
      "\n",
      "Training: 9/100 epochs\n"
     ]
    },
    {
     "data": {
      "application/vnd.jupyter.widget-view+json": {
       "model_id": "d84e442068b746c1b1d119dbd6429073",
       "version_major": 2,
       "version_minor": 0
      },
      "text/plain": [
       "       0%|                                                  | 0/62 [00:00<?, ?it/s]"
      ]
     },
     "metadata": {},
     "output_type": "display_data"
    },
    {
     "name": "stdout",
     "output_type": "stream",
     "text": [
      "\n",
      "Epoch: 9 : loss = 1.202 - acc1 = 64.062\n",
      "\n",
      "Epoch: 9 : loss = 1.222 - acc1 = 65.312\n",
      "\n",
      "Epoch: 9 : loss = 1.240 - acc1 = 63.802\n",
      "\n",
      "Epoch: 9 : loss = 1.232 - acc1 = 63.861\n",
      "\n",
      "Test:\n"
     ]
    },
    {
     "data": {
      "application/vnd.jupyter.widget-view+json": {
       "model_id": "f1091810164a41cba905c8e2f69dbcba",
       "version_major": 2,
       "version_minor": 0
      },
      "text/plain": [
       "       0%|                                                  | 0/31 [00:00<?, ?it/s]"
      ]
     },
     "metadata": {},
     "output_type": "display_data"
    },
    {
     "name": "stdout",
     "output_type": "stream",
     "text": [
      "\n",
      "Epoch: 9 : loss = 0.849 - acc1 = 68.438\n",
      "\n",
      "Epoch: 9 : loss = 0.816 - acc1 = 68.906\n",
      "\n",
      "Epoch: 9 : loss = 0.848 - acc1 = 66.771\n",
      "\n",
      "Epoch: 9 : loss = 0.856 - acc1 = 66.837\n",
      "\n",
      "Training: 10/100 epochs\n"
     ]
    },
    {
     "data": {
      "application/vnd.jupyter.widget-view+json": {
       "model_id": "d05026562a6b48a38cb89000d2361767",
       "version_major": 2,
       "version_minor": 0
      },
      "text/plain": [
       "       0%|                                                  | 0/62 [00:00<?, ?it/s]"
      ]
     },
     "metadata": {},
     "output_type": "display_data"
    },
    {
     "name": "stdout",
     "output_type": "stream",
     "text": [
      "\n",
      "Epoch: 10 : loss = 1.110 - acc1 = 66.250\n",
      "\n",
      "Epoch: 10 : loss = 1.125 - acc1 = 65.000\n",
      "\n",
      "Epoch: 10 : loss = 1.142 - acc1 = 63.698\n",
      "\n",
      "Epoch: 10 : loss = 1.154 - acc1 = 63.155\n",
      "\n",
      "Test:\n"
     ]
    },
    {
     "data": {
      "application/vnd.jupyter.widget-view+json": {
       "model_id": "5d401f8f8a7341c3b3c12c25c758ba91",
       "version_major": 2,
       "version_minor": 0
      },
      "text/plain": [
       "       0%|                                                  | 0/31 [00:00<?, ?it/s]"
      ]
     },
     "metadata": {},
     "output_type": "display_data"
    },
    {
     "name": "stdout",
     "output_type": "stream",
     "text": [
      "\n",
      "Epoch: 10 : loss = 0.855 - acc1 = 67.188\n",
      "\n",
      "Epoch: 10 : loss = 0.819 - acc1 = 68.594\n",
      "\n",
      "Epoch: 10 : loss = 0.856 - acc1 = 65.938\n",
      "\n",
      "Epoch: 10 : loss = 0.863 - acc1 = 66.020\n",
      "\n",
      "Training: 11/100 epochs\n"
     ]
    },
    {
     "data": {
      "application/vnd.jupyter.widget-view+json": {
       "model_id": "ede1d03a6cd64b47bce731804a088901",
       "version_major": 2,
       "version_minor": 0
      },
      "text/plain": [
       "       0%|                                                  | 0/62 [00:00<?, ?it/s]"
      ]
     },
     "metadata": {},
     "output_type": "display_data"
    },
    {
     "name": "stdout",
     "output_type": "stream",
     "text": [
      "\n",
      "Epoch: 11 : loss = 1.217 - acc1 = 64.688\n",
      "\n",
      "Epoch: 11 : loss = 1.169 - acc1 = 66.172\n",
      "\n",
      "Epoch: 11 : loss = 1.183 - acc1 = 65.312\n",
      "\n",
      "Epoch: 11 : loss = 1.192 - acc1 = 65.071\n",
      "\n",
      "Test:\n"
     ]
    },
    {
     "data": {
      "application/vnd.jupyter.widget-view+json": {
       "model_id": "6b45dc9692c34f8b82ce61115b8251dc",
       "version_major": 2,
       "version_minor": 0
      },
      "text/plain": [
       "       0%|                                                  | 0/31 [00:00<?, ?it/s]"
      ]
     },
     "metadata": {},
     "output_type": "display_data"
    },
    {
     "name": "stdout",
     "output_type": "stream",
     "text": [
      "\n",
      "Epoch: 11 : loss = 0.857 - acc1 = 66.250\n",
      "\n",
      "Epoch: 11 : loss = 0.825 - acc1 = 67.188\n",
      "\n",
      "Epoch: 11 : loss = 0.856 - acc1 = 65.312\n",
      "\n",
      "Epoch: 11 : loss = 0.864 - acc1 = 65.408\n",
      "\n",
      "Training: 12/100 epochs\n"
     ]
    },
    {
     "data": {
      "application/vnd.jupyter.widget-view+json": {
       "model_id": "f33f550a451448f1befc57df52511ec6",
       "version_major": 2,
       "version_minor": 0
      },
      "text/plain": [
       "       0%|                                                  | 0/62 [00:00<?, ?it/s]"
      ]
     },
     "metadata": {},
     "output_type": "display_data"
    },
    {
     "name": "stdout",
     "output_type": "stream",
     "text": [
      "\n",
      "Epoch: 12 : loss = 1.136 - acc1 = 61.406\n",
      "\n",
      "Epoch: 12 : loss = 1.198 - acc1 = 61.094\n",
      "\n",
      "Epoch: 12 : loss = 1.230 - acc1 = 61.458\n",
      "\n",
      "Epoch: 12 : loss = 1.223 - acc1 = 61.794\n",
      "\n",
      "Test:\n"
     ]
    },
    {
     "data": {
      "application/vnd.jupyter.widget-view+json": {
       "model_id": "4d50bf91856644a2b9721a3830802596",
       "version_major": 2,
       "version_minor": 0
      },
      "text/plain": [
       "       0%|                                                  | 0/31 [00:00<?, ?it/s]"
      ]
     },
     "metadata": {},
     "output_type": "display_data"
    },
    {
     "name": "stdout",
     "output_type": "stream",
     "text": [
      "\n",
      "Epoch: 12 : loss = 0.862 - acc1 = 65.312\n",
      "\n",
      "Epoch: 12 : loss = 0.827 - acc1 = 67.969\n",
      "\n",
      "Epoch: 12 : loss = 0.858 - acc1 = 65.938\n",
      "\n",
      "Epoch: 12 : loss = 0.865 - acc1 = 66.020\n",
      "\n",
      "Training: 13/100 epochs\n"
     ]
    },
    {
     "data": {
      "application/vnd.jupyter.widget-view+json": {
       "model_id": "3e7fe9539e7b4da2b3ee339b07ae31d5",
       "version_major": 2,
       "version_minor": 0
      },
      "text/plain": [
       "       0%|                                                  | 0/62 [00:00<?, ?it/s]"
      ]
     },
     "metadata": {},
     "output_type": "display_data"
    },
    {
     "name": "stdout",
     "output_type": "stream",
     "text": [
      "\n",
      "Epoch: 13 : loss = 1.372 - acc1 = 60.625\n",
      "\n",
      "Epoch: 13 : loss = 1.245 - acc1 = 62.891\n",
      "\n",
      "Epoch: 13 : loss = 1.279 - acc1 = 61.667\n",
      "\n",
      "Epoch: 13 : loss = 1.300 - acc1 = 61.341\n",
      "\n",
      "Test:\n"
     ]
    },
    {
     "data": {
      "application/vnd.jupyter.widget-view+json": {
       "model_id": "56d2f21b24204da5a5c3c7a8248032ef",
       "version_major": 2,
       "version_minor": 0
      },
      "text/plain": [
       "       0%|                                                  | 0/31 [00:00<?, ?it/s]"
      ]
     },
     "metadata": {},
     "output_type": "display_data"
    },
    {
     "name": "stdout",
     "output_type": "stream",
     "text": [
      "\n",
      "Epoch: 13 : loss = 0.861 - acc1 = 67.188\n",
      "\n",
      "Epoch: 13 : loss = 0.825 - acc1 = 68.594\n",
      "\n",
      "Epoch: 13 : loss = 0.857 - acc1 = 66.146\n",
      "\n",
      "Epoch: 13 : loss = 0.864 - acc1 = 66.224\n",
      "\n",
      "Training: 14/100 epochs\n"
     ]
    },
    {
     "data": {
      "application/vnd.jupyter.widget-view+json": {
       "model_id": "58c208ea047f4dcabd02575b720aa3a9",
       "version_major": 2,
       "version_minor": 0
      },
      "text/plain": [
       "       0%|                                                  | 0/62 [00:00<?, ?it/s]"
      ]
     },
     "metadata": {},
     "output_type": "display_data"
    },
    {
     "name": "stdout",
     "output_type": "stream",
     "text": [
      "\n",
      "Epoch: 14 : loss = 1.220 - acc1 = 61.719\n",
      "\n",
      "Epoch: 14 : loss = 1.208 - acc1 = 62.188\n",
      "\n",
      "Epoch: 14 : loss = 1.228 - acc1 = 62.240\n",
      "\n",
      "Epoch: 14 : loss = 1.231 - acc1 = 62.046\n",
      "\n",
      "Test:\n"
     ]
    },
    {
     "data": {
      "application/vnd.jupyter.widget-view+json": {
       "model_id": "efa7aa3419b74b308641759fdcabc17f",
       "version_major": 2,
       "version_minor": 0
      },
      "text/plain": [
       "       0%|                                                  | 0/31 [00:00<?, ?it/s]"
      ]
     },
     "metadata": {},
     "output_type": "display_data"
    },
    {
     "name": "stdout",
     "output_type": "stream",
     "text": [
      "\n",
      "Epoch: 14 : loss = 0.862 - acc1 = 66.250\n",
      "\n",
      "Epoch: 14 : loss = 0.834 - acc1 = 66.875\n",
      "\n",
      "Epoch: 14 : loss = 0.864 - acc1 = 64.896\n",
      "\n",
      "Epoch: 14 : loss = 0.870 - acc1 = 65.000\n",
      "\n",
      "Training: 15/100 epochs\n"
     ]
    },
    {
     "data": {
      "application/vnd.jupyter.widget-view+json": {
       "model_id": "2f9958b115c54aedb797727a4bedebbc",
       "version_major": 2,
       "version_minor": 0
      },
      "text/plain": [
       "       0%|                                                  | 0/62 [00:00<?, ?it/s]"
      ]
     },
     "metadata": {},
     "output_type": "display_data"
    },
    {
     "name": "stdout",
     "output_type": "stream",
     "text": [
      "\n",
      "Epoch: 15 : loss = 1.240 - acc1 = 63.125\n",
      "\n",
      "Epoch: 15 : loss = 1.229 - acc1 = 63.750\n",
      "\n",
      "Epoch: 15 : loss = 1.227 - acc1 = 61.771\n",
      "\n",
      "Epoch: 15 : loss = 1.226 - acc1 = 61.895\n",
      "\n",
      "Test:\n"
     ]
    },
    {
     "data": {
      "application/vnd.jupyter.widget-view+json": {
       "model_id": "3d7c3e8535154ca3b5c10f99f23a862f",
       "version_major": 2,
       "version_minor": 0
      },
      "text/plain": [
       "       0%|                                                  | 0/31 [00:00<?, ?it/s]"
      ]
     },
     "metadata": {},
     "output_type": "display_data"
    },
    {
     "name": "stdout",
     "output_type": "stream",
     "text": [
      "\n",
      "Epoch: 15 : loss = 0.860 - acc1 = 67.812\n",
      "\n",
      "Epoch: 15 : loss = 0.831 - acc1 = 68.125\n",
      "\n",
      "Epoch: 15 : loss = 0.867 - acc1 = 65.938\n",
      "\n",
      "Epoch: 15 : loss = 0.871 - acc1 = 65.918\n",
      "\n",
      "Training: 16/100 epochs\n"
     ]
    },
    {
     "data": {
      "application/vnd.jupyter.widget-view+json": {
       "model_id": "433b2e31bf3d4e92805ede53a2d8bda4",
       "version_major": 2,
       "version_minor": 0
      },
      "text/plain": [
       "       0%|                                                  | 0/62 [00:00<?, ?it/s]"
      ]
     },
     "metadata": {},
     "output_type": "display_data"
    },
    {
     "name": "stdout",
     "output_type": "stream",
     "text": [
      "\n",
      "Epoch: 16 : loss = 1.022 - acc1 = 64.688\n",
      "\n",
      "Epoch: 16 : loss = 1.111 - acc1 = 64.688\n",
      "\n",
      "Epoch: 16 : loss = 1.153 - acc1 = 63.438\n",
      "\n",
      "Epoch: 16 : loss = 1.165 - acc1 = 63.710\n",
      "\n",
      "Test:\n"
     ]
    },
    {
     "data": {
      "application/vnd.jupyter.widget-view+json": {
       "model_id": "86fa3589331d489d97b4383eda5b4399",
       "version_major": 2,
       "version_minor": 0
      },
      "text/plain": [
       "       0%|                                                  | 0/31 [00:00<?, ?it/s]"
      ]
     },
     "metadata": {},
     "output_type": "display_data"
    },
    {
     "name": "stdout",
     "output_type": "stream",
     "text": [
      "\n",
      "Epoch: 16 : loss = 0.869 - acc1 = 67.188\n",
      "\n",
      "Epoch: 16 : loss = 0.828 - acc1 = 68.594\n",
      "\n",
      "Epoch: 16 : loss = 0.861 - acc1 = 66.667\n",
      "\n",
      "Epoch: 16 : loss = 0.870 - acc1 = 66.735\n",
      "\n",
      "Training: 17/100 epochs\n"
     ]
    },
    {
     "data": {
      "application/vnd.jupyter.widget-view+json": {
       "model_id": "8cb78cb61c3144ea81bab39346c9e5b6",
       "version_major": 2,
       "version_minor": 0
      },
      "text/plain": [
       "       0%|                                                  | 0/62 [00:00<?, ?it/s]"
      ]
     },
     "metadata": {},
     "output_type": "display_data"
    },
    {
     "name": "stdout",
     "output_type": "stream",
     "text": [
      "\n",
      "Epoch: 17 : loss = 1.300 - acc1 = 60.469\n",
      "\n",
      "Epoch: 17 : loss = 1.233 - acc1 = 61.797\n",
      "\n",
      "Epoch: 17 : loss = 1.204 - acc1 = 62.031\n",
      "\n",
      "Epoch: 17 : loss = 1.211 - acc1 = 62.046\n",
      "\n",
      "Test:\n"
     ]
    },
    {
     "data": {
      "application/vnd.jupyter.widget-view+json": {
       "model_id": "13674c058e4f40cc907e0d766217684f",
       "version_major": 2,
       "version_minor": 0
      },
      "text/plain": [
       "       0%|                                                  | 0/31 [00:00<?, ?it/s]"
      ]
     },
     "metadata": {},
     "output_type": "display_data"
    },
    {
     "name": "stdout",
     "output_type": "stream",
     "text": [
      "\n",
      "Epoch: 17 : loss = 0.848 - acc1 = 67.812\n",
      "\n",
      "Epoch: 17 : loss = 0.818 - acc1 = 68.125\n",
      "\n",
      "Epoch: 17 : loss = 0.856 - acc1 = 66.250\n",
      "\n",
      "Epoch: 17 : loss = 0.861 - acc1 = 66.327\n",
      "\n",
      "Training: 18/100 epochs\n"
     ]
    },
    {
     "data": {
      "application/vnd.jupyter.widget-view+json": {
       "model_id": "40033927d394447a98247a40e4eff500",
       "version_major": 2,
       "version_minor": 0
      },
      "text/plain": [
       "       0%|                                                  | 0/62 [00:00<?, ?it/s]"
      ]
     },
     "metadata": {},
     "output_type": "display_data"
    },
    {
     "name": "stdout",
     "output_type": "stream",
     "text": [
      "\n",
      "Epoch: 18 : loss = 1.229 - acc1 = 63.125\n",
      "\n",
      "Epoch: 18 : loss = 1.205 - acc1 = 62.344\n",
      "\n",
      "Epoch: 18 : loss = 1.189 - acc1 = 63.177\n",
      "\n",
      "Epoch: 18 : loss = 1.182 - acc1 = 63.256\n",
      "\n",
      "Test:\n"
     ]
    },
    {
     "data": {
      "application/vnd.jupyter.widget-view+json": {
       "model_id": "5dd90fff58754fd496badaa02c60baa7",
       "version_major": 2,
       "version_minor": 0
      },
      "text/plain": [
       "       0%|                                                  | 0/31 [00:00<?, ?it/s]"
      ]
     },
     "metadata": {},
     "output_type": "display_data"
    },
    {
     "name": "stdout",
     "output_type": "stream",
     "text": [
      "\n",
      "Epoch: 18 : loss = 0.853 - acc1 = 67.188\n",
      "\n",
      "Epoch: 18 : loss = 0.824 - acc1 = 68.438\n",
      "\n",
      "Epoch: 18 : loss = 0.861 - acc1 = 66.146\n",
      "\n",
      "Epoch: 18 : loss = 0.867 - acc1 = 66.224\n",
      "\n",
      "Training: 19/100 epochs\n"
     ]
    },
    {
     "data": {
      "application/vnd.jupyter.widget-view+json": {
       "model_id": "ec5a5dcc35e4473499194e3a999d8259",
       "version_major": 2,
       "version_minor": 0
      },
      "text/plain": [
       "       0%|                                                  | 0/62 [00:00<?, ?it/s]"
      ]
     },
     "metadata": {},
     "output_type": "display_data"
    },
    {
     "name": "stdout",
     "output_type": "stream",
     "text": [
      "\n",
      "Epoch: 19 : loss = 1.136 - acc1 = 64.375\n",
      "\n",
      "Epoch: 19 : loss = 1.263 - acc1 = 62.969\n",
      "\n",
      "Epoch: 19 : loss = 1.237 - acc1 = 63.542\n",
      "\n",
      "Epoch: 19 : loss = 1.245 - acc1 = 63.155\n",
      "\n",
      "Test:\n"
     ]
    },
    {
     "data": {
      "application/vnd.jupyter.widget-view+json": {
       "model_id": "8dc4782a18b240a6a7d23214b42e6c55",
       "version_major": 2,
       "version_minor": 0
      },
      "text/plain": [
       "       0%|                                                  | 0/31 [00:00<?, ?it/s]"
      ]
     },
     "metadata": {},
     "output_type": "display_data"
    },
    {
     "name": "stdout",
     "output_type": "stream",
     "text": [
      "\n",
      "Epoch: 19 : loss = 0.851 - acc1 = 65.938\n",
      "\n",
      "Epoch: 19 : loss = 0.817 - acc1 = 67.969\n",
      "\n",
      "Epoch: 19 : loss = 0.851 - acc1 = 66.146\n",
      "\n",
      "Epoch: 19 : loss = 0.859 - acc1 = 66.224\n",
      "\n",
      "Training: 20/100 epochs\n"
     ]
    },
    {
     "data": {
      "application/vnd.jupyter.widget-view+json": {
       "model_id": "da01db8e073e4faf8fb0ac469636b28c",
       "version_major": 2,
       "version_minor": 0
      },
      "text/plain": [
       "       0%|                                                  | 0/62 [00:00<?, ?it/s]"
      ]
     },
     "metadata": {},
     "output_type": "display_data"
    },
    {
     "name": "stdout",
     "output_type": "stream",
     "text": [
      "\n",
      "Epoch: 20 : loss = 1.241 - acc1 = 61.250\n",
      "\n",
      "Epoch: 20 : loss = 1.222 - acc1 = 61.953\n",
      "\n",
      "Epoch: 20 : loss = 1.243 - acc1 = 61.198\n",
      "\n",
      "Epoch: 20 : loss = 1.236 - acc1 = 61.240\n",
      "\n",
      "Test:\n"
     ]
    },
    {
     "data": {
      "application/vnd.jupyter.widget-view+json": {
       "model_id": "cf832972f4b54724b032982635c33837",
       "version_major": 2,
       "version_minor": 0
      },
      "text/plain": [
       "       0%|                                                  | 0/31 [00:00<?, ?it/s]"
      ]
     },
     "metadata": {},
     "output_type": "display_data"
    },
    {
     "name": "stdout",
     "output_type": "stream",
     "text": [
      "\n",
      "Epoch: 20 : loss = 0.875 - acc1 = 66.875\n",
      "\n",
      "Epoch: 20 : loss = 0.858 - acc1 = 67.031\n",
      "\n",
      "Epoch: 20 : loss = 0.885 - acc1 = 64.896\n",
      "\n",
      "Epoch: 20 : loss = 0.891 - acc1 = 65.000\n",
      "\n",
      "Training: 21/100 epochs\n"
     ]
    },
    {
     "data": {
      "application/vnd.jupyter.widget-view+json": {
       "model_id": "d08579cca34640138653f9eafcdece85",
       "version_major": 2,
       "version_minor": 0
      },
      "text/plain": [
       "       0%|                                                  | 0/62 [00:00<?, ?it/s]"
      ]
     },
     "metadata": {},
     "output_type": "display_data"
    },
    {
     "name": "stdout",
     "output_type": "stream",
     "text": [
      "\n",
      "Epoch: 21 : loss = 1.193 - acc1 = 62.812\n",
      "\n",
      "Epoch: 21 : loss = 1.210 - acc1 = 62.188\n",
      "\n",
      "Epoch: 21 : loss = 1.202 - acc1 = 62.188\n",
      "\n",
      "Epoch: 21 : loss = 1.194 - acc1 = 62.349\n",
      "\n",
      "Test:\n"
     ]
    },
    {
     "data": {
      "application/vnd.jupyter.widget-view+json": {
       "model_id": "b904acb2f23c4f7eaf819d98998af352",
       "version_major": 2,
       "version_minor": 0
      },
      "text/plain": [
       "       0%|                                                  | 0/31 [00:00<?, ?it/s]"
      ]
     },
     "metadata": {},
     "output_type": "display_data"
    },
    {
     "name": "stdout",
     "output_type": "stream",
     "text": [
      "\n",
      "Epoch: 21 : loss = 0.847 - acc1 = 66.875\n",
      "\n",
      "Epoch: 21 : loss = 0.824 - acc1 = 68.281\n",
      "\n",
      "Epoch: 21 : loss = 0.856 - acc1 = 66.562\n",
      "\n",
      "Epoch: 21 : loss = 0.864 - acc1 = 66.531\n",
      "\n",
      "Training: 22/100 epochs\n"
     ]
    },
    {
     "data": {
      "application/vnd.jupyter.widget-view+json": {
       "model_id": "3471bb155c754517a177d6bb42baa6b6",
       "version_major": 2,
       "version_minor": 0
      },
      "text/plain": [
       "       0%|                                                  | 0/62 [00:00<?, ?it/s]"
      ]
     },
     "metadata": {},
     "output_type": "display_data"
    },
    {
     "name": "stdout",
     "output_type": "stream",
     "text": [
      "\n",
      "Epoch: 22 : loss = 1.180 - acc1 = 60.469\n",
      "\n",
      "Epoch: 22 : loss = 1.196 - acc1 = 61.016\n",
      "\n",
      "Epoch: 22 : loss = 1.198 - acc1 = 61.667\n",
      "\n",
      "Epoch: 22 : loss = 1.208 - acc1 = 61.542\n",
      "\n",
      "Test:\n"
     ]
    },
    {
     "data": {
      "application/vnd.jupyter.widget-view+json": {
       "model_id": "afa1acd62e3541ea89364acd674091da",
       "version_major": 2,
       "version_minor": 0
      },
      "text/plain": [
       "       0%|                                                  | 0/31 [00:00<?, ?it/s]"
      ]
     },
     "metadata": {},
     "output_type": "display_data"
    },
    {
     "name": "stdout",
     "output_type": "stream",
     "text": [
      "\n",
      "Epoch: 22 : loss = 0.883 - acc1 = 68.438\n",
      "\n",
      "Epoch: 22 : loss = 0.862 - acc1 = 67.344\n",
      "\n",
      "Epoch: 22 : loss = 0.900 - acc1 = 65.208\n",
      "\n",
      "Epoch: 22 : loss = 0.900 - acc1 = 65.306\n",
      "\n",
      "Training: 23/100 epochs\n"
     ]
    },
    {
     "data": {
      "application/vnd.jupyter.widget-view+json": {
       "model_id": "a6586283e88d4936a9317bf0d9fa1287",
       "version_major": 2,
       "version_minor": 0
      },
      "text/plain": [
       "       0%|                                                  | 0/62 [00:00<?, ?it/s]"
      ]
     },
     "metadata": {},
     "output_type": "display_data"
    },
    {
     "name": "stdout",
     "output_type": "stream",
     "text": [
      "\n",
      "Epoch: 23 : loss = 1.347 - acc1 = 61.094\n",
      "\n",
      "Epoch: 23 : loss = 1.284 - acc1 = 60.547\n",
      "\n",
      "Epoch: 23 : loss = 1.277 - acc1 = 61.042\n",
      "\n",
      "Epoch: 23 : loss = 1.275 - acc1 = 60.988\n",
      "\n",
      "Test:\n"
     ]
    },
    {
     "data": {
      "application/vnd.jupyter.widget-view+json": {
       "model_id": "a25a80b4e71843dbad6134fd514e4c56",
       "version_major": 2,
       "version_minor": 0
      },
      "text/plain": [
       "       0%|                                                  | 0/31 [00:00<?, ?it/s]"
      ]
     },
     "metadata": {},
     "output_type": "display_data"
    },
    {
     "name": "stdout",
     "output_type": "stream",
     "text": [
      "\n",
      "Epoch: 23 : loss = 0.877 - acc1 = 67.188\n",
      "\n",
      "Epoch: 23 : loss = 0.847 - acc1 = 68.281\n",
      "\n",
      "Epoch: 23 : loss = 0.881 - acc1 = 66.979\n",
      "\n",
      "Epoch: 23 : loss = 0.892 - acc1 = 67.245\n",
      "\n",
      "Training: 24/100 epochs\n"
     ]
    },
    {
     "data": {
      "application/vnd.jupyter.widget-view+json": {
       "model_id": "b0d5abac9e6a4d3fb02746f8483de865",
       "version_major": 2,
       "version_minor": 0
      },
      "text/plain": [
       "       0%|                                                  | 0/62 [00:00<?, ?it/s]"
      ]
     },
     "metadata": {},
     "output_type": "display_data"
    },
    {
     "name": "stdout",
     "output_type": "stream",
     "text": [
      "\n",
      "Epoch: 24 : loss = 1.153 - acc1 = 62.969\n",
      "\n",
      "Epoch: 24 : loss = 1.233 - acc1 = 60.156\n",
      "\n",
      "Epoch: 24 : loss = 1.213 - acc1 = 59.375\n",
      "\n",
      "Epoch: 24 : loss = 1.223 - acc1 = 59.224\n",
      "\n",
      "Test:\n"
     ]
    },
    {
     "data": {
      "application/vnd.jupyter.widget-view+json": {
       "model_id": "f532e98965e641d3aece1c79a09998fa",
       "version_major": 2,
       "version_minor": 0
      },
      "text/plain": [
       "       0%|                                                  | 0/31 [00:00<?, ?it/s]"
      ]
     },
     "metadata": {},
     "output_type": "display_data"
    },
    {
     "name": "stdout",
     "output_type": "stream",
     "text": [
      "\n",
      "Epoch: 24 : loss = 0.902 - acc1 = 67.812\n",
      "\n",
      "Epoch: 24 : loss = 0.865 - acc1 = 67.344\n",
      "\n",
      "Epoch: 24 : loss = 0.900 - acc1 = 65.104\n",
      "\n",
      "Epoch: 24 : loss = 0.908 - acc1 = 65.102\n",
      "\n",
      "Training: 25/100 epochs\n"
     ]
    },
    {
     "data": {
      "application/vnd.jupyter.widget-view+json": {
       "model_id": "ebafbb18b9a642e29cdd0159cfac2488",
       "version_major": 2,
       "version_minor": 0
      },
      "text/plain": [
       "       0%|                                                  | 0/62 [00:00<?, ?it/s]"
      ]
     },
     "metadata": {},
     "output_type": "display_data"
    },
    {
     "name": "stdout",
     "output_type": "stream",
     "text": [
      "\n",
      "Epoch: 25 : loss = 1.286 - acc1 = 63.125\n",
      "\n",
      "Epoch: 25 : loss = 1.264 - acc1 = 63.984\n",
      "\n",
      "Epoch: 25 : loss = 1.235 - acc1 = 63.698\n",
      "\n",
      "Epoch: 25 : loss = 1.239 - acc1 = 63.508\n",
      "\n",
      "Test:\n"
     ]
    },
    {
     "data": {
      "application/vnd.jupyter.widget-view+json": {
       "model_id": "527fdbc81664491ca8befab995444dd2",
       "version_major": 2,
       "version_minor": 0
      },
      "text/plain": [
       "       0%|                                                  | 0/31 [00:00<?, ?it/s]"
      ]
     },
     "metadata": {},
     "output_type": "display_data"
    },
    {
     "name": "stdout",
     "output_type": "stream",
     "text": [
      "\n",
      "Epoch: 25 : loss = 0.902 - acc1 = 64.688\n",
      "\n",
      "Epoch: 25 : loss = 0.867 - acc1 = 65.625\n",
      "\n",
      "Epoch: 25 : loss = 0.900 - acc1 = 63.021\n",
      "\n",
      "Epoch: 25 : loss = 0.910 - acc1 = 63.163\n",
      "\n",
      "Training: 26/100 epochs\n"
     ]
    },
    {
     "data": {
      "application/vnd.jupyter.widget-view+json": {
       "model_id": "9e7830205789420c8b7595cc2a996058",
       "version_major": 2,
       "version_minor": 0
      },
      "text/plain": [
       "       0%|                                                  | 0/62 [00:00<?, ?it/s]"
      ]
     },
     "metadata": {},
     "output_type": "display_data"
    },
    {
     "name": "stdout",
     "output_type": "stream",
     "text": [
      "\n",
      "Epoch: 26 : loss = 1.143 - acc1 = 61.562\n",
      "\n",
      "Epoch: 26 : loss = 1.226 - acc1 = 61.875\n",
      "\n",
      "Epoch: 26 : loss = 1.169 - acc1 = 62.448\n",
      "\n",
      "Epoch: 26 : loss = 1.171 - acc1 = 62.601\n",
      "\n",
      "Test:\n"
     ]
    },
    {
     "data": {
      "application/vnd.jupyter.widget-view+json": {
       "model_id": "00099843d4484b0daa564bef8ddd5bbe",
       "version_major": 2,
       "version_minor": 0
      },
      "text/plain": [
       "       0%|                                                  | 0/31 [00:00<?, ?it/s]"
      ]
     },
     "metadata": {},
     "output_type": "display_data"
    },
    {
     "name": "stdout",
     "output_type": "stream",
     "text": [
      "\n",
      "Epoch: 26 : loss = 0.927 - acc1 = 66.250\n",
      "\n",
      "Epoch: 26 : loss = 0.901 - acc1 = 65.312\n",
      "\n",
      "Epoch: 26 : loss = 0.945 - acc1 = 62.813\n",
      "\n",
      "Epoch: 26 : loss = 0.946 - acc1 = 62.857\n",
      "\n",
      "Training: 27/100 epochs\n"
     ]
    },
    {
     "data": {
      "application/vnd.jupyter.widget-view+json": {
       "model_id": "91924532df46467aac5ba7dca3c1c87a",
       "version_major": 2,
       "version_minor": 0
      },
      "text/plain": [
       "       0%|                                                  | 0/62 [00:00<?, ?it/s]"
      ]
     },
     "metadata": {},
     "output_type": "display_data"
    },
    {
     "name": "stdout",
     "output_type": "stream",
     "text": [
      "\n",
      "Epoch: 27 : loss = 1.258 - acc1 = 60.469\n",
      "\n",
      "Epoch: 27 : loss = 1.234 - acc1 = 62.266\n",
      "\n",
      "Epoch: 27 : loss = 1.228 - acc1 = 62.240\n",
      "\n",
      "Epoch: 27 : loss = 1.230 - acc1 = 62.248\n",
      "\n",
      "Test:\n"
     ]
    },
    {
     "data": {
      "application/vnd.jupyter.widget-view+json": {
       "model_id": "f88734c28bbe4008a3791e19d19f4782",
       "version_major": 2,
       "version_minor": 0
      },
      "text/plain": [
       "       0%|                                                  | 0/31 [00:00<?, ?it/s]"
      ]
     },
     "metadata": {},
     "output_type": "display_data"
    },
    {
     "name": "stdout",
     "output_type": "stream",
     "text": [
      "\n",
      "Epoch: 27 : loss = 0.894 - acc1 = 65.625\n",
      "\n",
      "Epoch: 27 : loss = 0.883 - acc1 = 65.312\n",
      "\n",
      "Epoch: 27 : loss = 0.911 - acc1 = 62.708\n",
      "\n",
      "Epoch: 27 : loss = 0.915 - acc1 = 62.857\n",
      "\n",
      "Training: 28/100 epochs\n"
     ]
    },
    {
     "data": {
      "application/vnd.jupyter.widget-view+json": {
       "model_id": "636bf79b9eb14d74adfd51ad8da71eca",
       "version_major": 2,
       "version_minor": 0
      },
      "text/plain": [
       "       0%|                                                  | 0/62 [00:00<?, ?it/s]"
      ]
     },
     "metadata": {},
     "output_type": "display_data"
    },
    {
     "name": "stdout",
     "output_type": "stream",
     "text": [
      "\n",
      "Epoch: 28 : loss = 1.133 - acc1 = 63.281\n",
      "\n",
      "Epoch: 28 : loss = 1.211 - acc1 = 60.156\n",
      "\n",
      "Epoch: 28 : loss = 1.237 - acc1 = 61.094\n",
      "\n",
      "Epoch: 28 : loss = 1.236 - acc1 = 60.988\n",
      "\n",
      "Test:\n"
     ]
    },
    {
     "data": {
      "application/vnd.jupyter.widget-view+json": {
       "model_id": "cc2198ffd3a54320a6fc45334b7608b5",
       "version_major": 2,
       "version_minor": 0
      },
      "text/plain": [
       "       0%|                                                  | 0/31 [00:00<?, ?it/s]"
      ]
     },
     "metadata": {},
     "output_type": "display_data"
    },
    {
     "name": "stdout",
     "output_type": "stream",
     "text": [
      "\n",
      "Epoch: 28 : loss = 1.002 - acc1 = 62.500\n",
      "\n",
      "Epoch: 28 : loss = 0.967 - acc1 = 62.812\n",
      "\n",
      "Epoch: 28 : loss = 1.005 - acc1 = 61.042\n",
      "\n",
      "Epoch: 28 : loss = 1.009 - acc1 = 61.020\n",
      "\n",
      "Training: 29/100 epochs\n"
     ]
    },
    {
     "data": {
      "application/vnd.jupyter.widget-view+json": {
       "model_id": "8d24610c1b2e4d718b46d4c5f61e1523",
       "version_major": 2,
       "version_minor": 0
      },
      "text/plain": [
       "       0%|                                                  | 0/62 [00:00<?, ?it/s]"
      ]
     },
     "metadata": {},
     "output_type": "display_data"
    },
    {
     "name": "stdout",
     "output_type": "stream",
     "text": [
      "\n",
      "Epoch: 29 : loss = 1.291 - acc1 = 60.781\n",
      "\n",
      "Epoch: 29 : loss = 1.285 - acc1 = 60.000\n",
      "\n",
      "Epoch: 29 : loss = 1.250 - acc1 = 60.573\n",
      "\n",
      "Epoch: 29 : loss = 1.241 - acc1 = 61.190\n",
      "\n",
      "Test:\n"
     ]
    },
    {
     "data": {
      "application/vnd.jupyter.widget-view+json": {
       "model_id": "be39948f383545289233e38c0ca28e4f",
       "version_major": 2,
       "version_minor": 0
      },
      "text/plain": [
       "       0%|                                                  | 0/31 [00:00<?, ?it/s]"
      ]
     },
     "metadata": {},
     "output_type": "display_data"
    },
    {
     "name": "stdout",
     "output_type": "stream",
     "text": [
      "\n",
      "Epoch: 29 : loss = 0.870 - acc1 = 67.188\n",
      "\n",
      "Epoch: 29 : loss = 0.843 - acc1 = 69.219\n",
      "\n",
      "Epoch: 29 : loss = 0.872 - acc1 = 66.562\n",
      "\n",
      "Epoch: 29 : loss = 0.879 - acc1 = 66.531\n",
      "\n",
      "Training: 30/100 epochs\n"
     ]
    },
    {
     "data": {
      "application/vnd.jupyter.widget-view+json": {
       "model_id": "633f0e86f2e84c17bf2d0be5c28fc8f2",
       "version_major": 2,
       "version_minor": 0
      },
      "text/plain": [
       "       0%|                                                  | 0/62 [00:00<?, ?it/s]"
      ]
     },
     "metadata": {},
     "output_type": "display_data"
    },
    {
     "name": "stdout",
     "output_type": "stream",
     "text": [
      "\n",
      "Epoch: 30 : loss = 1.394 - acc1 = 61.094\n",
      "\n",
      "Epoch: 30 : loss = 1.369 - acc1 = 58.828\n",
      "\n",
      "Epoch: 30 : loss = 1.340 - acc1 = 58.542\n",
      "\n",
      "Epoch: 30 : loss = 1.335 - acc1 = 58.770\n",
      "\n",
      "Test:\n"
     ]
    },
    {
     "data": {
      "application/vnd.jupyter.widget-view+json": {
       "model_id": "8ca63d007b594a3f8e19e685c63a9b27",
       "version_major": 2,
       "version_minor": 0
      },
      "text/plain": [
       "       0%|                                                  | 0/31 [00:00<?, ?it/s]"
      ]
     },
     "metadata": {},
     "output_type": "display_data"
    },
    {
     "name": "stdout",
     "output_type": "stream",
     "text": [
      "\n",
      "Epoch: 30 : loss = 0.914 - acc1 = 65.938\n",
      "\n",
      "Epoch: 30 : loss = 0.881 - acc1 = 67.344\n",
      "\n",
      "Epoch: 30 : loss = 0.923 - acc1 = 64.479\n",
      "\n",
      "Epoch: 30 : loss = 0.929 - acc1 = 64.592\n",
      "\n",
      "Training: 31/100 epochs\n"
     ]
    },
    {
     "data": {
      "application/vnd.jupyter.widget-view+json": {
       "model_id": "d02a239062e94c198f57413efad582da",
       "version_major": 2,
       "version_minor": 0
      },
      "text/plain": [
       "       0%|                                                  | 0/62 [00:00<?, ?it/s]"
      ]
     },
     "metadata": {},
     "output_type": "display_data"
    },
    {
     "name": "stdout",
     "output_type": "stream",
     "text": [
      "\n",
      "Epoch: 31 : loss = 1.283 - acc1 = 63.125\n",
      "\n",
      "Epoch: 31 : loss = 1.246 - acc1 = 62.812\n",
      "\n",
      "Epoch: 31 : loss = 1.270 - acc1 = 61.563\n",
      "\n",
      "Epoch: 31 : loss = 1.281 - acc1 = 61.341\n",
      "\n",
      "Test:\n"
     ]
    },
    {
     "data": {
      "application/vnd.jupyter.widget-view+json": {
       "model_id": "5fc3194f48dd4ffd9205b75862a22bef",
       "version_major": 2,
       "version_minor": 0
      },
      "text/plain": [
       "       0%|                                                  | 0/31 [00:00<?, ?it/s]"
      ]
     },
     "metadata": {},
     "output_type": "display_data"
    },
    {
     "name": "stdout",
     "output_type": "stream",
     "text": [
      "\n",
      "Epoch: 31 : loss = 0.978 - acc1 = 60.312\n",
      "\n",
      "Epoch: 31 : loss = 0.953 - acc1 = 61.406\n",
      "\n",
      "Epoch: 31 : loss = 0.993 - acc1 = 60.208\n",
      "\n",
      "Epoch: 31 : loss = 0.994 - acc1 = 60.306\n",
      "\n",
      "Training: 32/100 epochs\n"
     ]
    },
    {
     "data": {
      "application/vnd.jupyter.widget-view+json": {
       "model_id": "3054b3d8822c44a69b864173dd8a8995",
       "version_major": 2,
       "version_minor": 0
      },
      "text/plain": [
       "       0%|                                                  | 0/62 [00:00<?, ?it/s]"
      ]
     },
     "metadata": {},
     "output_type": "display_data"
    },
    {
     "name": "stdout",
     "output_type": "stream",
     "text": [
      "\n",
      "Epoch: 32 : loss = 1.217 - acc1 = 61.719\n",
      "\n",
      "Epoch: 32 : loss = 1.168 - acc1 = 62.734\n",
      "\n",
      "Epoch: 32 : loss = 1.205 - acc1 = 61.823\n",
      "\n",
      "Epoch: 32 : loss = 1.214 - acc1 = 61.593\n",
      "\n",
      "Test:\n"
     ]
    },
    {
     "data": {
      "application/vnd.jupyter.widget-view+json": {
       "model_id": "69b935ac6aca47bf94098a73c85ce767",
       "version_major": 2,
       "version_minor": 0
      },
      "text/plain": [
       "       0%|                                                  | 0/31 [00:00<?, ?it/s]"
      ]
     },
     "metadata": {},
     "output_type": "display_data"
    },
    {
     "name": "stdout",
     "output_type": "stream",
     "text": [
      "\n",
      "Epoch: 32 : loss = 0.866 - acc1 = 67.500\n",
      "\n",
      "Epoch: 32 : loss = 0.841 - acc1 = 68.594\n",
      "\n",
      "Epoch: 32 : loss = 0.875 - acc1 = 66.146\n",
      "\n",
      "Epoch: 32 : loss = 0.880 - acc1 = 66.122\n",
      "\n",
      "Training: 33/100 epochs\n"
     ]
    },
    {
     "data": {
      "application/vnd.jupyter.widget-view+json": {
       "model_id": "886aa9f209fa4db6bc341c9479784e95",
       "version_major": 2,
       "version_minor": 0
      },
      "text/plain": [
       "       0%|                                                  | 0/62 [00:00<?, ?it/s]"
      ]
     },
     "metadata": {},
     "output_type": "display_data"
    },
    {
     "name": "stdout",
     "output_type": "stream",
     "text": [
      "\n",
      "Epoch: 33 : loss = 1.383 - acc1 = 60.312\n",
      "\n",
      "Epoch: 33 : loss = 1.333 - acc1 = 61.328\n",
      "\n",
      "Epoch: 33 : loss = 1.297 - acc1 = 61.667\n",
      "\n",
      "Epoch: 33 : loss = 1.308 - acc1 = 61.391\n",
      "\n",
      "Test:\n"
     ]
    },
    {
     "data": {
      "application/vnd.jupyter.widget-view+json": {
       "model_id": "fb3ea754c3f54bab84fc9503f9eda9f7",
       "version_major": 2,
       "version_minor": 0
      },
      "text/plain": [
       "       0%|                                                  | 0/31 [00:00<?, ?it/s]"
      ]
     },
     "metadata": {},
     "output_type": "display_data"
    },
    {
     "name": "stdout",
     "output_type": "stream",
     "text": [
      "\n",
      "Epoch: 33 : loss = 0.835 - acc1 = 68.125\n",
      "\n",
      "Epoch: 33 : loss = 0.822 - acc1 = 68.906\n",
      "\n",
      "Epoch: 33 : loss = 0.856 - acc1 = 66.562\n",
      "\n",
      "Epoch: 33 : loss = 0.861 - acc1 = 66.633\n",
      "\n",
      "Training: 34/100 epochs\n"
     ]
    },
    {
     "data": {
      "application/vnd.jupyter.widget-view+json": {
       "model_id": "285bea9d98f847d99ba4a5813bc83ad8",
       "version_major": 2,
       "version_minor": 0
      },
      "text/plain": [
       "       0%|                                                  | 0/62 [00:00<?, ?it/s]"
      ]
     },
     "metadata": {},
     "output_type": "display_data"
    },
    {
     "name": "stdout",
     "output_type": "stream",
     "text": [
      "\n",
      "Epoch: 34 : loss = 1.273 - acc1 = 63.281\n",
      "\n",
      "Epoch: 34 : loss = 1.255 - acc1 = 62.188\n",
      "\n",
      "Epoch: 34 : loss = 1.253 - acc1 = 61.615\n",
      "\n",
      "Epoch: 34 : loss = 1.259 - acc1 = 61.442\n",
      "\n",
      "Test:\n"
     ]
    },
    {
     "data": {
      "application/vnd.jupyter.widget-view+json": {
       "model_id": "8cde52419ce84cfe9cdc7bf9f8d0a5cc",
       "version_major": 2,
       "version_minor": 0
      },
      "text/plain": [
       "       0%|                                                  | 0/31 [00:00<?, ?it/s]"
      ]
     },
     "metadata": {},
     "output_type": "display_data"
    },
    {
     "name": "stdout",
     "output_type": "stream",
     "text": [
      "\n",
      "Epoch: 34 : loss = 0.897 - acc1 = 66.875\n",
      "\n",
      "Epoch: 34 : loss = 0.883 - acc1 = 66.875\n",
      "\n",
      "Epoch: 34 : loss = 0.917 - acc1 = 65.104\n",
      "\n",
      "Epoch: 34 : loss = 0.925 - acc1 = 65.204\n",
      "\n",
      "Training: 35/100 epochs\n"
     ]
    },
    {
     "data": {
      "application/vnd.jupyter.widget-view+json": {
       "model_id": "c57e35c04d974e8a934197ce8dd7339f",
       "version_major": 2,
       "version_minor": 0
      },
      "text/plain": [
       "       0%|                                                  | 0/62 [00:00<?, ?it/s]"
      ]
     },
     "metadata": {},
     "output_type": "display_data"
    },
    {
     "name": "stdout",
     "output_type": "stream",
     "text": [
      "\n",
      "Epoch: 35 : loss = 1.330 - acc1 = 54.531\n",
      "\n",
      "Epoch: 35 : loss = 1.290 - acc1 = 58.828\n",
      "\n",
      "Epoch: 35 : loss = 1.261 - acc1 = 58.125\n",
      "\n",
      "Epoch: 35 : loss = 1.255 - acc1 = 58.115\n",
      "\n",
      "Test:\n"
     ]
    },
    {
     "data": {
      "application/vnd.jupyter.widget-view+json": {
       "model_id": "4b87ec3a09f8422ca5825cefc43d7d00",
       "version_major": 2,
       "version_minor": 0
      },
      "text/plain": [
       "       0%|                                                  | 0/31 [00:00<?, ?it/s]"
      ]
     },
     "metadata": {},
     "output_type": "display_data"
    },
    {
     "name": "stdout",
     "output_type": "stream",
     "text": [
      "\n",
      "Epoch: 35 : loss = 0.937 - acc1 = 65.625\n",
      "\n",
      "Epoch: 35 : loss = 0.888 - acc1 = 66.250\n",
      "\n",
      "Epoch: 35 : loss = 0.916 - acc1 = 64.479\n",
      "\n",
      "Epoch: 35 : loss = 0.928 - acc1 = 64.694\n",
      "\n",
      "Training: 36/100 epochs\n"
     ]
    },
    {
     "data": {
      "application/vnd.jupyter.widget-view+json": {
       "model_id": "4eba1b45501b466db909a811f2f00092",
       "version_major": 2,
       "version_minor": 0
      },
      "text/plain": [
       "       0%|                                                  | 0/62 [00:00<?, ?it/s]"
      ]
     },
     "metadata": {},
     "output_type": "display_data"
    },
    {
     "name": "stdout",
     "output_type": "stream",
     "text": [
      "\n",
      "Epoch: 36 : loss = 1.309 - acc1 = 59.688\n",
      "\n",
      "Epoch: 36 : loss = 1.271 - acc1 = 61.797\n",
      "\n",
      "Epoch: 36 : loss = 1.273 - acc1 = 61.406\n",
      "\n",
      "Epoch: 36 : loss = 1.267 - acc1 = 61.694\n",
      "\n",
      "Test:\n"
     ]
    },
    {
     "data": {
      "application/vnd.jupyter.widget-view+json": {
       "model_id": "3608e00b50f2473db516b0fc5207ec07",
       "version_major": 2,
       "version_minor": 0
      },
      "text/plain": [
       "       0%|                                                  | 0/31 [00:00<?, ?it/s]"
      ]
     },
     "metadata": {},
     "output_type": "display_data"
    },
    {
     "name": "stdout",
     "output_type": "stream",
     "text": [
      "\n",
      "Epoch: 36 : loss = 0.871 - acc1 = 66.562\n",
      "\n",
      "Epoch: 36 : loss = 0.849 - acc1 = 68.594\n",
      "\n",
      "Epoch: 36 : loss = 0.877 - acc1 = 66.354\n",
      "\n",
      "Epoch: 36 : loss = 0.884 - acc1 = 66.429\n",
      "\n",
      "Training: 37/100 epochs\n"
     ]
    },
    {
     "data": {
      "application/vnd.jupyter.widget-view+json": {
       "model_id": "b64f1e6c0df3420bb29a9826a2c307bc",
       "version_major": 2,
       "version_minor": 0
      },
      "text/plain": [
       "       0%|                                                  | 0/62 [00:00<?, ?it/s]"
      ]
     },
     "metadata": {},
     "output_type": "display_data"
    },
    {
     "name": "stdout",
     "output_type": "stream",
     "text": [
      "\n",
      "Epoch: 37 : loss = 1.236 - acc1 = 63.281\n",
      "\n",
      "Epoch: 37 : loss = 1.171 - acc1 = 64.609\n",
      "\n",
      "Epoch: 37 : loss = 1.197 - acc1 = 63.385\n",
      "\n",
      "Epoch: 37 : loss = 1.210 - acc1 = 63.054\n",
      "\n",
      "Test:\n"
     ]
    },
    {
     "data": {
      "application/vnd.jupyter.widget-view+json": {
       "model_id": "0a0dffac59ae41c4b7a89ca5cbad022b",
       "version_major": 2,
       "version_minor": 0
      },
      "text/plain": [
       "       0%|                                                  | 0/31 [00:00<?, ?it/s]"
      ]
     },
     "metadata": {},
     "output_type": "display_data"
    },
    {
     "name": "stdout",
     "output_type": "stream",
     "text": [
      "\n",
      "Epoch: 37 : loss = 1.092 - acc1 = 58.438\n",
      "\n",
      "Epoch: 37 : loss = 1.063 - acc1 = 60.312\n",
      "\n",
      "Epoch: 37 : loss = 1.083 - acc1 = 59.583\n",
      "\n",
      "Epoch: 37 : loss = 1.093 - acc1 = 59.490\n",
      "\n",
      "Training: 38/100 epochs\n"
     ]
    },
    {
     "data": {
      "application/vnd.jupyter.widget-view+json": {
       "model_id": "b2f84e1883fd459296879223020b95fd",
       "version_major": 2,
       "version_minor": 0
      },
      "text/plain": [
       "       0%|                                                  | 0/62 [00:00<?, ?it/s]"
      ]
     },
     "metadata": {},
     "output_type": "display_data"
    },
    {
     "name": "stdout",
     "output_type": "stream",
     "text": [
      "\n",
      "Epoch: 38 : loss = 1.248 - acc1 = 57.656\n",
      "\n",
      "Epoch: 38 : loss = 1.215 - acc1 = 60.156\n",
      "\n",
      "Epoch: 38 : loss = 1.244 - acc1 = 59.635\n",
      "\n",
      "Epoch: 38 : loss = 1.242 - acc1 = 60.181\n",
      "\n",
      "Test:\n"
     ]
    },
    {
     "data": {
      "application/vnd.jupyter.widget-view+json": {
       "model_id": "6a8774e130a747c5ab42af12d920d44b",
       "version_major": 2,
       "version_minor": 0
      },
      "text/plain": [
       "       0%|                                                  | 0/31 [00:00<?, ?it/s]"
      ]
     },
     "metadata": {},
     "output_type": "display_data"
    },
    {
     "name": "stdout",
     "output_type": "stream",
     "text": [
      "\n",
      "Epoch: 38 : loss = 0.896 - acc1 = 68.750\n",
      "\n",
      "Epoch: 38 : loss = 0.867 - acc1 = 69.062\n",
      "\n",
      "Epoch: 38 : loss = 0.892 - acc1 = 67.708\n",
      "\n",
      "Epoch: 38 : loss = 0.897 - acc1 = 67.653\n",
      "\n",
      "Training: 39/100 epochs\n"
     ]
    },
    {
     "data": {
      "application/vnd.jupyter.widget-view+json": {
       "model_id": "634010c5f7f24ecd8de740197ae76391",
       "version_major": 2,
       "version_minor": 0
      },
      "text/plain": [
       "       0%|                                                  | 0/62 [00:00<?, ?it/s]"
      ]
     },
     "metadata": {},
     "output_type": "display_data"
    },
    {
     "name": "stdout",
     "output_type": "stream",
     "text": [
      "\n",
      "Epoch: 39 : loss = 1.297 - acc1 = 60.938\n",
      "\n",
      "Epoch: 39 : loss = 1.275 - acc1 = 61.172\n",
      "\n",
      "Epoch: 39 : loss = 1.289 - acc1 = 61.563\n",
      "\n",
      "Epoch: 39 : loss = 1.282 - acc1 = 61.694\n",
      "\n",
      "Test:\n"
     ]
    },
    {
     "data": {
      "application/vnd.jupyter.widget-view+json": {
       "model_id": "104fe96cde0e403894c241130428ec9f",
       "version_major": 2,
       "version_minor": 0
      },
      "text/plain": [
       "       0%|                                                  | 0/31 [00:00<?, ?it/s]"
      ]
     },
     "metadata": {},
     "output_type": "display_data"
    },
    {
     "name": "stdout",
     "output_type": "stream",
     "text": [
      "\n",
      "Epoch: 39 : loss = 0.982 - acc1 = 63.438\n",
      "\n",
      "Epoch: 39 : loss = 0.954 - acc1 = 65.000\n",
      "\n",
      "Epoch: 39 : loss = 0.984 - acc1 = 63.125\n",
      "\n",
      "Epoch: 39 : loss = 0.994 - acc1 = 63.061\n",
      "\n",
      "Training: 40/100 epochs\n"
     ]
    },
    {
     "data": {
      "application/vnd.jupyter.widget-view+json": {
       "model_id": "c855cbd93eec41719a36b5f72cfa9e24",
       "version_major": 2,
       "version_minor": 0
      },
      "text/plain": [
       "       0%|                                                  | 0/62 [00:00<?, ?it/s]"
      ]
     },
     "metadata": {},
     "output_type": "display_data"
    },
    {
     "name": "stdout",
     "output_type": "stream",
     "text": [
      "\n",
      "Epoch: 40 : loss = 1.224 - acc1 = 62.656\n",
      "\n",
      "Epoch: 40 : loss = 1.119 - acc1 = 65.078\n",
      "\n",
      "Epoch: 40 : loss = 1.140 - acc1 = 64.167\n",
      "\n",
      "Epoch: 40 : loss = 1.141 - acc1 = 64.012\n",
      "\n",
      "Test:\n"
     ]
    },
    {
     "data": {
      "application/vnd.jupyter.widget-view+json": {
       "model_id": "965b615968574d97b0b8a617488d2979",
       "version_major": 2,
       "version_minor": 0
      },
      "text/plain": [
       "       0%|                                                  | 0/31 [00:00<?, ?it/s]"
      ]
     },
     "metadata": {},
     "output_type": "display_data"
    },
    {
     "name": "stdout",
     "output_type": "stream",
     "text": [
      "\n",
      "Epoch: 40 : loss = 1.026 - acc1 = 62.500\n",
      "\n",
      "Epoch: 40 : loss = 0.995 - acc1 = 63.125\n",
      "\n",
      "Epoch: 40 : loss = 1.020 - acc1 = 62.500\n",
      "\n",
      "Epoch: 40 : loss = 1.038 - acc1 = 62.347\n",
      "\n",
      "Training: 41/100 epochs\n"
     ]
    },
    {
     "data": {
      "application/vnd.jupyter.widget-view+json": {
       "model_id": "ed4bcbf8019a42648804824b2f828f5b",
       "version_major": 2,
       "version_minor": 0
      },
      "text/plain": [
       "       0%|                                                  | 0/62 [00:00<?, ?it/s]"
      ]
     },
     "metadata": {},
     "output_type": "display_data"
    },
    {
     "name": "stdout",
     "output_type": "stream",
     "text": [
      "\n",
      "Epoch: 41 : loss = 1.225 - acc1 = 61.094\n",
      "\n",
      "Epoch: 41 : loss = 1.188 - acc1 = 62.578\n",
      "\n",
      "Epoch: 41 : loss = 1.162 - acc1 = 63.281\n",
      "\n",
      "Epoch: 41 : loss = 1.163 - acc1 = 63.357\n",
      "\n",
      "Test:\n"
     ]
    },
    {
     "data": {
      "application/vnd.jupyter.widget-view+json": {
       "model_id": "bcde24c503a74004a4d99eccfb5c3cb9",
       "version_major": 2,
       "version_minor": 0
      },
      "text/plain": [
       "       0%|                                                  | 0/31 [00:00<?, ?it/s]"
      ]
     },
     "metadata": {},
     "output_type": "display_data"
    },
    {
     "name": "stdout",
     "output_type": "stream",
     "text": [
      "\n",
      "Epoch: 41 : loss = 0.866 - acc1 = 66.250\n",
      "\n",
      "Epoch: 41 : loss = 0.834 - acc1 = 67.656\n",
      "\n",
      "Epoch: 41 : loss = 0.883 - acc1 = 65.938\n",
      "\n",
      "Epoch: 41 : loss = 0.891 - acc1 = 65.918\n",
      "\n",
      "Training: 42/100 epochs\n"
     ]
    },
    {
     "data": {
      "application/vnd.jupyter.widget-view+json": {
       "model_id": "01e0a1e4152b4826ac7167013f0b9fee",
       "version_major": 2,
       "version_minor": 0
      },
      "text/plain": [
       "       0%|                                                  | 0/62 [00:00<?, ?it/s]"
      ]
     },
     "metadata": {},
     "output_type": "display_data"
    },
    {
     "name": "stdout",
     "output_type": "stream",
     "text": [
      "\n",
      "Epoch: 42 : loss = 1.283 - acc1 = 59.531\n",
      "\n",
      "Epoch: 42 : loss = 1.202 - acc1 = 63.359\n",
      "\n",
      "Epoch: 42 : loss = 1.243 - acc1 = 62.188\n",
      "\n",
      "Epoch: 42 : loss = 1.240 - acc1 = 62.248\n",
      "\n",
      "Test:\n"
     ]
    },
    {
     "data": {
      "application/vnd.jupyter.widget-view+json": {
       "model_id": "0f0afebc0836450c86d4349f1e5d2e54",
       "version_major": 2,
       "version_minor": 0
      },
      "text/plain": [
       "       0%|                                                  | 0/31 [00:00<?, ?it/s]"
      ]
     },
     "metadata": {},
     "output_type": "display_data"
    },
    {
     "name": "stdout",
     "output_type": "stream",
     "text": [
      "\n",
      "Epoch: 42 : loss = 0.971 - acc1 = 63.750\n",
      "\n",
      "Epoch: 42 : loss = 0.937 - acc1 = 64.375\n",
      "\n",
      "Epoch: 42 : loss = 0.964 - acc1 = 61.979\n",
      "\n",
      "Epoch: 42 : loss = 0.969 - acc1 = 61.837\n",
      "\n",
      "Training: 43/100 epochs\n"
     ]
    },
    {
     "data": {
      "application/vnd.jupyter.widget-view+json": {
       "model_id": "6454fa598d8e4bdda5051ed96f4d7c5c",
       "version_major": 2,
       "version_minor": 0
      },
      "text/plain": [
       "       0%|                                                  | 0/62 [00:00<?, ?it/s]"
      ]
     },
     "metadata": {},
     "output_type": "display_data"
    },
    {
     "name": "stdout",
     "output_type": "stream",
     "text": [
      "\n",
      "Epoch: 43 : loss = 1.291 - acc1 = 60.625\n",
      "\n",
      "Epoch: 43 : loss = 1.332 - acc1 = 60.547\n",
      "\n",
      "Epoch: 43 : loss = 1.272 - acc1 = 60.885\n",
      "\n",
      "Epoch: 43 : loss = 1.267 - acc1 = 60.585\n",
      "\n",
      "Test:\n"
     ]
    },
    {
     "data": {
      "application/vnd.jupyter.widget-view+json": {
       "model_id": "66831d9021234932a63eb97f65862dac",
       "version_major": 2,
       "version_minor": 0
      },
      "text/plain": [
       "       0%|                                                  | 0/31 [00:00<?, ?it/s]"
      ]
     },
     "metadata": {},
     "output_type": "display_data"
    },
    {
     "name": "stdout",
     "output_type": "stream",
     "text": [
      "\n",
      "Epoch: 43 : loss = 1.047 - acc1 = 61.250\n",
      "\n",
      "Epoch: 43 : loss = 0.999 - acc1 = 62.812\n",
      "\n",
      "Epoch: 43 : loss = 1.067 - acc1 = 60.625\n",
      "\n",
      "Epoch: 43 : loss = 1.078 - acc1 = 60.408\n",
      "\n",
      "Training: 44/100 epochs\n"
     ]
    },
    {
     "data": {
      "application/vnd.jupyter.widget-view+json": {
       "model_id": "16e8ca69e2114badb51889288d5b204c",
       "version_major": 2,
       "version_minor": 0
      },
      "text/plain": [
       "       0%|                                                  | 0/62 [00:00<?, ?it/s]"
      ]
     },
     "metadata": {},
     "output_type": "display_data"
    },
    {
     "name": "stdout",
     "output_type": "stream",
     "text": [
      "\n",
      "Epoch: 44 : loss = 1.328 - acc1 = 60.469\n",
      "\n",
      "Epoch: 44 : loss = 1.294 - acc1 = 61.719\n",
      "\n",
      "Epoch: 44 : loss = 1.270 - acc1 = 61.667\n",
      "\n",
      "Epoch: 44 : loss = 1.276 - acc1 = 61.542\n",
      "\n",
      "Test:\n"
     ]
    },
    {
     "data": {
      "application/vnd.jupyter.widget-view+json": {
       "model_id": "7f994c5e969b47fcbbb0ca0f592a7cb8",
       "version_major": 2,
       "version_minor": 0
      },
      "text/plain": [
       "       0%|                                                  | 0/31 [00:00<?, ?it/s]"
      ]
     },
     "metadata": {},
     "output_type": "display_data"
    },
    {
     "name": "stdout",
     "output_type": "stream",
     "text": [
      "\n",
      "Epoch: 44 : loss = 1.032 - acc1 = 61.562\n",
      "\n",
      "Epoch: 44 : loss = 1.043 - acc1 = 61.562\n",
      "\n",
      "Epoch: 44 : loss = 1.068 - acc1 = 60.000\n",
      "\n",
      "Epoch: 44 : loss = 1.067 - acc1 = 60.306\n",
      "\n",
      "Training: 45/100 epochs\n"
     ]
    },
    {
     "data": {
      "application/vnd.jupyter.widget-view+json": {
       "model_id": "527cbb97205f448293675b5c0e4ec63e",
       "version_major": 2,
       "version_minor": 0
      },
      "text/plain": [
       "       0%|                                                  | 0/62 [00:00<?, ?it/s]"
      ]
     },
     "metadata": {},
     "output_type": "display_data"
    },
    {
     "name": "stdout",
     "output_type": "stream",
     "text": [
      "\n",
      "Epoch: 45 : loss = 1.290 - acc1 = 61.719\n",
      "\n",
      "Epoch: 45 : loss = 1.238 - acc1 = 62.344\n",
      "\n",
      "Epoch: 45 : loss = 1.187 - acc1 = 63.385\n",
      "\n",
      "Epoch: 45 : loss = 1.191 - acc1 = 63.710\n",
      "\n",
      "Test:\n"
     ]
    },
    {
     "data": {
      "application/vnd.jupyter.widget-view+json": {
       "model_id": "1ec133e0e65540ac9c1e07500d2e3703",
       "version_major": 2,
       "version_minor": 0
      },
      "text/plain": [
       "       0%|                                                  | 0/31 [00:00<?, ?it/s]"
      ]
     },
     "metadata": {},
     "output_type": "display_data"
    },
    {
     "name": "stdout",
     "output_type": "stream",
     "text": [
      "\n",
      "Epoch: 45 : loss = 0.915 - acc1 = 62.812\n",
      "\n",
      "Epoch: 45 : loss = 0.911 - acc1 = 65.156\n",
      "\n",
      "Epoch: 45 : loss = 0.945 - acc1 = 62.292\n",
      "\n",
      "Epoch: 45 : loss = 0.951 - acc1 = 62.245\n",
      "\n",
      "Training: 46/100 epochs\n"
     ]
    },
    {
     "data": {
      "application/vnd.jupyter.widget-view+json": {
       "model_id": "20a827f1cf724ab5bf48fccce8e1ac64",
       "version_major": 2,
       "version_minor": 0
      },
      "text/plain": [
       "       0%|                                                  | 0/62 [00:00<?, ?it/s]"
      ]
     },
     "metadata": {},
     "output_type": "display_data"
    },
    {
     "name": "stdout",
     "output_type": "stream",
     "text": [
      "\n",
      "Epoch: 46 : loss = 1.149 - acc1 = 62.031\n",
      "\n",
      "Epoch: 46 : loss = 1.132 - acc1 = 63.047\n",
      "\n",
      "Epoch: 46 : loss = 1.162 - acc1 = 61.563\n",
      "\n",
      "Epoch: 46 : loss = 1.163 - acc1 = 61.845\n",
      "\n",
      "Test:\n"
     ]
    },
    {
     "data": {
      "application/vnd.jupyter.widget-view+json": {
       "model_id": "60d4ef4e7ddc49bc972b79609558f77f",
       "version_major": 2,
       "version_minor": 0
      },
      "text/plain": [
       "       0%|                                                  | 0/31 [00:00<?, ?it/s]"
      ]
     },
     "metadata": {},
     "output_type": "display_data"
    },
    {
     "name": "stdout",
     "output_type": "stream",
     "text": [
      "\n",
      "Epoch: 46 : loss = 0.874 - acc1 = 66.875\n",
      "\n",
      "Epoch: 46 : loss = 0.853 - acc1 = 67.188\n",
      "\n",
      "Epoch: 46 : loss = 0.879 - acc1 = 66.562\n",
      "\n",
      "Epoch: 46 : loss = 0.883 - acc1 = 66.633\n",
      "\n",
      "Training: 47/100 epochs\n"
     ]
    },
    {
     "data": {
      "application/vnd.jupyter.widget-view+json": {
       "model_id": "e2f8936a65c04569be202842447a2e8f",
       "version_major": 2,
       "version_minor": 0
      },
      "text/plain": [
       "       0%|                                                  | 0/62 [00:00<?, ?it/s]"
      ]
     },
     "metadata": {},
     "output_type": "display_data"
    },
    {
     "name": "stdout",
     "output_type": "stream",
     "text": [
      "\n",
      "Epoch: 47 : loss = 1.258 - acc1 = 62.344\n",
      "\n",
      "Epoch: 47 : loss = 1.214 - acc1 = 63.125\n",
      "\n",
      "Epoch: 47 : loss = 1.184 - acc1 = 63.698\n",
      "\n",
      "Epoch: 47 : loss = 1.197 - acc1 = 63.306\n",
      "\n",
      "Test:\n"
     ]
    },
    {
     "data": {
      "application/vnd.jupyter.widget-view+json": {
       "model_id": "7d835a5a0ba94f6887d9a781108959e8",
       "version_major": 2,
       "version_minor": 0
      },
      "text/plain": [
       "       0%|                                                  | 0/31 [00:00<?, ?it/s]"
      ]
     },
     "metadata": {},
     "output_type": "display_data"
    },
    {
     "name": "stdout",
     "output_type": "stream",
     "text": [
      "\n",
      "Epoch: 47 : loss = 0.891 - acc1 = 67.500\n",
      "\n",
      "Epoch: 47 : loss = 0.868 - acc1 = 68.906\n",
      "\n",
      "Epoch: 47 : loss = 0.899 - acc1 = 66.875\n",
      "\n",
      "Epoch: 47 : loss = 0.908 - acc1 = 66.837\n",
      "\n",
      "Training: 48/100 epochs\n"
     ]
    },
    {
     "data": {
      "application/vnd.jupyter.widget-view+json": {
       "model_id": "b4bab85df067453894ae78d3b0bd1515",
       "version_major": 2,
       "version_minor": 0
      },
      "text/plain": [
       "       0%|                                                  | 0/62 [00:00<?, ?it/s]"
      ]
     },
     "metadata": {},
     "output_type": "display_data"
    },
    {
     "name": "stdout",
     "output_type": "stream",
     "text": [
      "\n",
      "Epoch: 48 : loss = 1.277 - acc1 = 60.312\n",
      "\n",
      "Epoch: 48 : loss = 1.302 - acc1 = 60.391\n",
      "\n",
      "Epoch: 48 : loss = 1.276 - acc1 = 60.417\n",
      "\n",
      "Epoch: 48 : loss = 1.278 - acc1 = 60.685\n",
      "\n",
      "Test:\n"
     ]
    },
    {
     "data": {
      "application/vnd.jupyter.widget-view+json": {
       "model_id": "23812dd330c94a3c96d3885c5b6074a8",
       "version_major": 2,
       "version_minor": 0
      },
      "text/plain": [
       "       0%|                                                  | 0/31 [00:00<?, ?it/s]"
      ]
     },
     "metadata": {},
     "output_type": "display_data"
    },
    {
     "name": "stdout",
     "output_type": "stream",
     "text": [
      "\n",
      "Epoch: 48 : loss = 0.948 - acc1 = 64.375\n",
      "\n",
      "Epoch: 48 : loss = 0.932 - acc1 = 65.312\n",
      "\n",
      "Epoch: 48 : loss = 0.989 - acc1 = 63.125\n",
      "\n",
      "Epoch: 48 : loss = 0.988 - acc1 = 63.163\n",
      "\n",
      "Training: 49/100 epochs\n"
     ]
    },
    {
     "data": {
      "application/vnd.jupyter.widget-view+json": {
       "model_id": "3b07be7153734da9afd2c2036d9bb2b4",
       "version_major": 2,
       "version_minor": 0
      },
      "text/plain": [
       "       0%|                                                  | 0/62 [00:00<?, ?it/s]"
      ]
     },
     "metadata": {},
     "output_type": "display_data"
    },
    {
     "name": "stdout",
     "output_type": "stream",
     "text": [
      "\n",
      "Epoch: 49 : loss = 1.285 - acc1 = 63.281\n",
      "\n",
      "Epoch: 49 : loss = 1.132 - acc1 = 64.531\n",
      "\n",
      "Epoch: 49 : loss = 1.195 - acc1 = 63.490\n",
      "\n",
      "Epoch: 49 : loss = 1.195 - acc1 = 63.256\n",
      "\n",
      "Test:\n"
     ]
    },
    {
     "data": {
      "application/vnd.jupyter.widget-view+json": {
       "model_id": "c8aa46e0606b4c1289dfbff56c786860",
       "version_major": 2,
       "version_minor": 0
      },
      "text/plain": [
       "       0%|                                                  | 0/31 [00:00<?, ?it/s]"
      ]
     },
     "metadata": {},
     "output_type": "display_data"
    },
    {
     "name": "stdout",
     "output_type": "stream",
     "text": [
      "\n",
      "Epoch: 49 : loss = 1.231 - acc1 = 54.688\n",
      "\n",
      "Epoch: 49 : loss = 1.166 - acc1 = 57.344\n",
      "\n",
      "Epoch: 49 : loss = 1.210 - acc1 = 55.313\n",
      "\n",
      "Epoch: 49 : loss = 1.221 - acc1 = 55.204\n",
      "\n",
      "Training: 50/100 epochs\n"
     ]
    },
    {
     "data": {
      "application/vnd.jupyter.widget-view+json": {
       "model_id": "ae47aa5d83044f36aa2e70376ce2832f",
       "version_major": 2,
       "version_minor": 0
      },
      "text/plain": [
       "       0%|                                                  | 0/62 [00:00<?, ?it/s]"
      ]
     },
     "metadata": {},
     "output_type": "display_data"
    },
    {
     "name": "stdout",
     "output_type": "stream",
     "text": [
      "\n",
      "Epoch: 50 : loss = 1.249 - acc1 = 61.406\n",
      "\n",
      "Epoch: 50 : loss = 1.214 - acc1 = 62.188\n",
      "\n",
      "Epoch: 50 : loss = 1.214 - acc1 = 62.656\n",
      "\n",
      "Epoch: 50 : loss = 1.217 - acc1 = 62.601\n",
      "\n",
      "Test:\n"
     ]
    },
    {
     "data": {
      "application/vnd.jupyter.widget-view+json": {
       "model_id": "03c17c57a0f0479185cb50d238b90f5e",
       "version_major": 2,
       "version_minor": 0
      },
      "text/plain": [
       "       0%|                                                  | 0/31 [00:00<?, ?it/s]"
      ]
     },
     "metadata": {},
     "output_type": "display_data"
    },
    {
     "name": "stdout",
     "output_type": "stream",
     "text": [
      "\n",
      "Epoch: 50 : loss = 0.930 - acc1 = 65.625\n",
      "\n",
      "Epoch: 50 : loss = 0.870 - acc1 = 66.875\n",
      "\n",
      "Epoch: 50 : loss = 0.907 - acc1 = 64.792\n",
      "\n",
      "Epoch: 50 : loss = 0.920 - acc1 = 64.694\n",
      "\n",
      "Training: 51/100 epochs\n"
     ]
    },
    {
     "data": {
      "application/vnd.jupyter.widget-view+json": {
       "model_id": "039edde1873b4713b6b4f43a80249d6f",
       "version_major": 2,
       "version_minor": 0
      },
      "text/plain": [
       "       0%|                                                  | 0/62 [00:00<?, ?it/s]"
      ]
     },
     "metadata": {},
     "output_type": "display_data"
    },
    {
     "name": "stdout",
     "output_type": "stream",
     "text": [
      "\n",
      "Epoch: 51 : loss = 1.130 - acc1 = 63.906\n",
      "\n",
      "Epoch: 51 : loss = 1.186 - acc1 = 62.656\n",
      "\n",
      "Epoch: 51 : loss = 1.192 - acc1 = 62.813\n",
      "\n",
      "Epoch: 51 : loss = 1.199 - acc1 = 62.954\n",
      "\n",
      "Test:\n"
     ]
    },
    {
     "data": {
      "application/vnd.jupyter.widget-view+json": {
       "model_id": "6ccf62803d4a42288cd30f764b6cb554",
       "version_major": 2,
       "version_minor": 0
      },
      "text/plain": [
       "       0%|                                                  | 0/31 [00:00<?, ?it/s]"
      ]
     },
     "metadata": {},
     "output_type": "display_data"
    },
    {
     "name": "stdout",
     "output_type": "stream",
     "text": [
      "\n",
      "Epoch: 51 : loss = 0.885 - acc1 = 67.188\n",
      "\n",
      "Epoch: 51 : loss = 0.852 - acc1 = 66.875\n",
      "\n",
      "Epoch: 51 : loss = 0.883 - acc1 = 65.521\n",
      "\n",
      "Epoch: 51 : loss = 0.890 - acc1 = 65.510\n",
      "\n",
      "Training: 52/100 epochs\n"
     ]
    },
    {
     "data": {
      "application/vnd.jupyter.widget-view+json": {
       "model_id": "9a601196f37c46a1b8bb8c876b7a58a9",
       "version_major": 2,
       "version_minor": 0
      },
      "text/plain": [
       "       0%|                                                  | 0/62 [00:00<?, ?it/s]"
      ]
     },
     "metadata": {},
     "output_type": "display_data"
    },
    {
     "name": "stdout",
     "output_type": "stream",
     "text": [
      "\n",
      "Epoch: 52 : loss = 1.334 - acc1 = 61.406\n",
      "\n",
      "Epoch: 52 : loss = 1.318 - acc1 = 60.625\n",
      "\n",
      "Epoch: 52 : loss = 1.300 - acc1 = 59.844\n",
      "\n",
      "Epoch: 52 : loss = 1.301 - acc1 = 59.980\n",
      "\n",
      "Test:\n"
     ]
    },
    {
     "data": {
      "application/vnd.jupyter.widget-view+json": {
       "model_id": "7c89411ae1d046aaa60f76358307a17b",
       "version_major": 2,
       "version_minor": 0
      },
      "text/plain": [
       "       0%|                                                  | 0/31 [00:00<?, ?it/s]"
      ]
     },
     "metadata": {},
     "output_type": "display_data"
    },
    {
     "name": "stdout",
     "output_type": "stream",
     "text": [
      "\n",
      "Epoch: 52 : loss = 1.063 - acc1 = 60.000\n",
      "\n",
      "Epoch: 52 : loss = 1.030 - acc1 = 60.781\n",
      "\n",
      "Epoch: 52 : loss = 1.053 - acc1 = 59.063\n",
      "\n",
      "Epoch: 52 : loss = 1.059 - acc1 = 58.878\n",
      "\n",
      "Training: 53/100 epochs\n"
     ]
    },
    {
     "data": {
      "application/vnd.jupyter.widget-view+json": {
       "model_id": "ebf62055551846dd9d1df89ee1e6a043",
       "version_major": 2,
       "version_minor": 0
      },
      "text/plain": [
       "       0%|                                                  | 0/62 [00:00<?, ?it/s]"
      ]
     },
     "metadata": {},
     "output_type": "display_data"
    },
    {
     "name": "stdout",
     "output_type": "stream",
     "text": [
      "\n",
      "Epoch: 53 : loss = 1.310 - acc1 = 64.844\n",
      "\n",
      "Epoch: 53 : loss = 1.353 - acc1 = 59.844\n",
      "\n",
      "Epoch: 53 : loss = 1.294 - acc1 = 60.990\n",
      "\n",
      "Epoch: 53 : loss = 1.289 - acc1 = 60.887\n",
      "\n",
      "Test:\n"
     ]
    },
    {
     "data": {
      "application/vnd.jupyter.widget-view+json": {
       "model_id": "dd82d9a1eaa54b10921a0505d8f0e489",
       "version_major": 2,
       "version_minor": 0
      },
      "text/plain": [
       "       0%|                                                  | 0/31 [00:00<?, ?it/s]"
      ]
     },
     "metadata": {},
     "output_type": "display_data"
    },
    {
     "name": "stdout",
     "output_type": "stream",
     "text": [
      "\n",
      "Epoch: 53 : loss = 1.072 - acc1 = 59.688\n",
      "\n",
      "Epoch: 53 : loss = 1.041 - acc1 = 61.719\n",
      "\n",
      "Epoch: 53 : loss = 1.065 - acc1 = 60.729\n",
      "\n",
      "Epoch: 53 : loss = 1.073 - acc1 = 60.714\n",
      "\n",
      "Training: 54/100 epochs\n"
     ]
    },
    {
     "data": {
      "application/vnd.jupyter.widget-view+json": {
       "model_id": "ff41fba7ffb547cba95d014f42a8413e",
       "version_major": 2,
       "version_minor": 0
      },
      "text/plain": [
       "       0%|                                                  | 0/62 [00:00<?, ?it/s]"
      ]
     },
     "metadata": {},
     "output_type": "display_data"
    },
    {
     "name": "stdout",
     "output_type": "stream",
     "text": [
      "\n",
      "Epoch: 54 : loss = 1.346 - acc1 = 59.375\n",
      "\n",
      "Epoch: 54 : loss = 1.243 - acc1 = 63.594\n",
      "\n",
      "Epoch: 54 : loss = 1.259 - acc1 = 62.292\n",
      "\n",
      "Epoch: 54 : loss = 1.251 - acc1 = 62.248\n",
      "\n",
      "Test:\n"
     ]
    },
    {
     "data": {
      "application/vnd.jupyter.widget-view+json": {
       "model_id": "195a163e08084a8a95fb0785400a006d",
       "version_major": 2,
       "version_minor": 0
      },
      "text/plain": [
       "       0%|                                                  | 0/31 [00:00<?, ?it/s]"
      ]
     },
     "metadata": {},
     "output_type": "display_data"
    },
    {
     "name": "stdout",
     "output_type": "stream",
     "text": [
      "\n",
      "Epoch: 54 : loss = 1.051 - acc1 = 57.812\n",
      "\n",
      "Epoch: 54 : loss = 1.047 - acc1 = 59.062\n",
      "\n",
      "Epoch: 54 : loss = 1.048 - acc1 = 59.479\n",
      "\n",
      "Epoch: 54 : loss = 1.064 - acc1 = 59.184\n",
      "\n",
      "Training: 55/100 epochs\n"
     ]
    },
    {
     "data": {
      "application/vnd.jupyter.widget-view+json": {
       "model_id": "a734f046035b4cd5999a3b564f61cd58",
       "version_major": 2,
       "version_minor": 0
      },
      "text/plain": [
       "       0%|                                                  | 0/62 [00:00<?, ?it/s]"
      ]
     },
     "metadata": {},
     "output_type": "display_data"
    },
    {
     "name": "stdout",
     "output_type": "stream",
     "text": [
      "\n",
      "Epoch: 55 : loss = 1.323 - acc1 = 61.406\n",
      "\n",
      "Epoch: 55 : loss = 1.279 - acc1 = 63.516\n",
      "\n",
      "Epoch: 55 : loss = 1.294 - acc1 = 62.760\n",
      "\n",
      "Epoch: 55 : loss = 1.295 - acc1 = 62.752\n",
      "\n",
      "Test:\n"
     ]
    },
    {
     "data": {
      "application/vnd.jupyter.widget-view+json": {
       "model_id": "733bbef141f048489c94dd401b61f3b2",
       "version_major": 2,
       "version_minor": 0
      },
      "text/plain": [
       "       0%|                                                  | 0/31 [00:00<?, ?it/s]"
      ]
     },
     "metadata": {},
     "output_type": "display_data"
    },
    {
     "name": "stdout",
     "output_type": "stream",
     "text": [
      "\n",
      "Epoch: 55 : loss = 0.919 - acc1 = 64.375\n",
      "\n",
      "Epoch: 55 : loss = 0.907 - acc1 = 64.531\n",
      "\n",
      "Epoch: 55 : loss = 0.955 - acc1 = 62.604\n",
      "\n",
      "Epoch: 55 : loss = 0.951 - acc1 = 62.857\n",
      "\n",
      "Training: 56/100 epochs\n"
     ]
    },
    {
     "data": {
      "application/vnd.jupyter.widget-view+json": {
       "model_id": "b1ce60d43e9e4c6788bb7c0823fdba21",
       "version_major": 2,
       "version_minor": 0
      },
      "text/plain": [
       "       0%|                                                  | 0/62 [00:00<?, ?it/s]"
      ]
     },
     "metadata": {},
     "output_type": "display_data"
    },
    {
     "name": "stdout",
     "output_type": "stream",
     "text": [
      "\n",
      "Epoch: 56 : loss = 1.270 - acc1 = 62.656\n",
      "\n",
      "Epoch: 56 : loss = 1.255 - acc1 = 61.016\n",
      "\n",
      "Epoch: 56 : loss = 1.233 - acc1 = 62.083\n",
      "\n",
      "Epoch: 56 : loss = 1.229 - acc1 = 62.198\n",
      "\n",
      "Test:\n"
     ]
    },
    {
     "data": {
      "application/vnd.jupyter.widget-view+json": {
       "model_id": "3bce1dd5c352400d9961dccac782826d",
       "version_major": 2,
       "version_minor": 0
      },
      "text/plain": [
       "       0%|                                                  | 0/31 [00:00<?, ?it/s]"
      ]
     },
     "metadata": {},
     "output_type": "display_data"
    },
    {
     "name": "stdout",
     "output_type": "stream",
     "text": [
      "\n",
      "Epoch: 56 : loss = 0.972 - acc1 = 64.375\n",
      "\n",
      "Epoch: 56 : loss = 0.964 - acc1 = 64.062\n",
      "\n",
      "Epoch: 56 : loss = 0.992 - acc1 = 62.500\n",
      "\n",
      "Epoch: 56 : loss = 1.005 - acc1 = 62.653\n",
      "\n",
      "Training: 57/100 epochs\n"
     ]
    },
    {
     "data": {
      "application/vnd.jupyter.widget-view+json": {
       "model_id": "16a889529da34fc08d487a8b55e3f884",
       "version_major": 2,
       "version_minor": 0
      },
      "text/plain": [
       "       0%|                                                  | 0/62 [00:00<?, ?it/s]"
      ]
     },
     "metadata": {},
     "output_type": "display_data"
    },
    {
     "name": "stdout",
     "output_type": "stream",
     "text": [
      "\n",
      "Epoch: 57 : loss = 1.126 - acc1 = 64.375\n",
      "\n",
      "Epoch: 57 : loss = 1.198 - acc1 = 64.375\n",
      "\n",
      "Epoch: 57 : loss = 1.248 - acc1 = 62.448\n",
      "\n",
      "Epoch: 57 : loss = 1.245 - acc1 = 62.651\n",
      "\n",
      "Test:\n"
     ]
    },
    {
     "data": {
      "application/vnd.jupyter.widget-view+json": {
       "model_id": "4a63313d39fb4c6f884d8ae9e1912d8f",
       "version_major": 2,
       "version_minor": 0
      },
      "text/plain": [
       "       0%|                                                  | 0/31 [00:00<?, ?it/s]"
      ]
     },
     "metadata": {},
     "output_type": "display_data"
    },
    {
     "name": "stdout",
     "output_type": "stream",
     "text": [
      "\n",
      "Epoch: 57 : loss = 0.968 - acc1 = 64.062\n",
      "\n",
      "Epoch: 57 : loss = 0.935 - acc1 = 64.844\n",
      "\n",
      "Epoch: 57 : loss = 0.961 - acc1 = 63.854\n",
      "\n",
      "Epoch: 57 : loss = 0.972 - acc1 = 63.571\n",
      "\n",
      "Training: 58/100 epochs\n"
     ]
    },
    {
     "data": {
      "application/vnd.jupyter.widget-view+json": {
       "model_id": "2f018f68e2fc405daed50fd73418e639",
       "version_major": 2,
       "version_minor": 0
      },
      "text/plain": [
       "       0%|                                                  | 0/62 [00:00<?, ?it/s]"
      ]
     },
     "metadata": {},
     "output_type": "display_data"
    }
   ],
   "source": [
    "# ---\n",
    "path2log = config[\"out_dir\"] + \"test2\"\n",
    "os.makedirs(path2log, exist_ok=True)\n",
    "\n",
    "optim = torch.optim.AdamW(\n",
    "    [\n",
    "        {\"params\": net.parameters()},\n",
    "    ],\n",
    "    lr=config[\"lr\"],\n",
    "    weight_decay=config[\"weight_decay\"],\n",
    ")\n",
    "scheduler = torch.optim.lr_scheduler.CosineAnnealingLR(\n",
    "    optim,\n",
    "    config[\"max_epoch\"],\n",
    "    eta_min=config[\"eta_min\"],\n",
    ")\n",
    "\n",
    "# --- Training\n",
    "mng = TrainingManager(\n",
    "    net,\n",
    "    spectrogram,\n",
    "    loader_train,\n",
    "    loader_test,\n",
    "    optim,\n",
    "    scheduler,\n",
    "    config,\n",
    "    path2log,\n",
    "    device=\"cuda\"\n",
    ")\n",
    "mng.path_to_ckpt = pathModel + \"/ckpt.pth\"\n",
    "mng.load_state()\n",
    "mng.current_epoch = 0\n",
    "mng.path_to_ckpt = path2log + \"/ckpt.pth\"\n",
    "mng.max_epoch = 100\n",
    "\n",
    "mng.train()"
   ]
  },
  {
   "cell_type": "code",
   "execution_count": 10,
   "metadata": {},
   "outputs": [
    {
     "name": "stdout",
     "output_type": "stream",
     "text": [
      "small DenNet: 7978856\n"
     ]
    }
   ],
   "source": [
    "small_densenet121 = models.densenet121(pretrained=True)\n",
    "print(\"small DenNet:\", count_parameters(small_densenet121))"
   ]
  },
  {
   "cell_type": "code",
   "execution_count": 15,
   "metadata": {},
   "outputs": [
    {
     "name": "stdout",
     "output_type": "stream",
     "text": [
      "small DenNet: 13386\n"
     ]
    }
   ],
   "source": [
    "for params in small_densenet121.parameters():\n",
    "    params.requires_grad = False\n",
    "\n",
    "small_densenet121.features.conv0 = nn.Conv2d(1, 64, kernel_size=(7, 7), stride=(2, 2), padding=(3, 3), bias=False)\n",
    "small_densenet121.classifier = nn.Linear(in_features=1024, out_features=10, bias=True)\n",
    "print(\"small DenNet:\", count_parameters(small_densenet121))\n",
    "small_densenet121 = small_densenet121.cuda()#.to(\"cpu\")"
   ]
  },
  {
   "cell_type": "code",
   "execution_count": 18,
   "metadata": {},
   "outputs": [
    {
     "name": "stdout",
     "output_type": "stream",
     "text": [
      "\n",
      "Training: 0/200 epochs\n"
     ]
    },
    {
     "data": {
      "application/vnd.jupyter.widget-view+json": {
       "model_id": "0e454a40cb7f401a8ff4267257f588b1",
       "version_major": 2,
       "version_minor": 0
      },
      "text/plain": [
       "       0%|                                                  | 0/62 [00:00<?, ?it/s]"
      ]
     },
     "metadata": {},
     "output_type": "display_data"
    },
    {
     "name": "stdout",
     "output_type": "stream",
     "text": [
      "\n",
      "Epoch: 0 : loss = 2.351 - acc1 = 11.719\n",
      "\n",
      "Epoch: 0 : loss = 2.308 - acc1 = 14.141\n"
     ]
    },
    {
     "ename": "KeyboardInterrupt",
     "evalue": "",
     "output_type": "error",
     "traceback": [
      "\u001b[0;31m------------------------------------------------------------------\u001b[0m",
      "\u001b[0;31mKeyboardInterrupt\u001b[0m                Traceback (most recent call last)",
      "\u001b[0;32m<ipython-input-18-2a80aabcdf2d>\u001b[0m in \u001b[0;36m<module>\u001b[0;34m\u001b[0m\n\u001b[1;32m     32\u001b[0m     \u001b[0mdevice\u001b[0m\u001b[0;34m=\u001b[0m\u001b[0;34m\"cpu\"\u001b[0m\u001b[0;34m\u001b[0m\u001b[0;34m\u001b[0m\u001b[0m\n\u001b[1;32m     33\u001b[0m )\n\u001b[0;32m---> 34\u001b[0;31m \u001b[0mmng\u001b[0m\u001b[0;34m.\u001b[0m\u001b[0mtrain\u001b[0m\u001b[0;34m(\u001b[0m\u001b[0;34m)\u001b[0m\u001b[0;34m\u001b[0m\u001b[0;34m\u001b[0m\u001b[0m\n\u001b[0m",
      "\u001b[0;32m~/MAP583/sp4asc/training.py\u001b[0m in \u001b[0;36mtrain\u001b[0;34m(self)\u001b[0m\n\u001b[1;32m    194\u001b[0m     \u001b[0;32mdef\u001b[0m \u001b[0mtrain\u001b[0m\u001b[0;34m(\u001b[0m\u001b[0mself\u001b[0m\u001b[0;34m)\u001b[0m\u001b[0;34m:\u001b[0m\u001b[0;34m\u001b[0m\u001b[0;34m\u001b[0m\u001b[0m\n\u001b[1;32m    195\u001b[0m         \u001b[0;32mfor\u001b[0m \u001b[0m_\u001b[0m \u001b[0;32min\u001b[0m \u001b[0mrange\u001b[0m\u001b[0;34m(\u001b[0m\u001b[0mself\u001b[0m\u001b[0;34m.\u001b[0m\u001b[0mcurrent_epoch\u001b[0m\u001b[0;34m,\u001b[0m \u001b[0mself\u001b[0m\u001b[0;34m.\u001b[0m\u001b[0mmax_epoch\u001b[0m\u001b[0;34m)\u001b[0m\u001b[0;34m:\u001b[0m\u001b[0;34m\u001b[0m\u001b[0;34m\u001b[0m\u001b[0m\n\u001b[0;32m--> 196\u001b[0;31m             \u001b[0mself\u001b[0m\u001b[0;34m.\u001b[0m\u001b[0mone_epoch\u001b[0m\u001b[0;34m(\u001b[0m\u001b[0mtraining\u001b[0m\u001b[0;34m=\u001b[0m\u001b[0;32mTrue\u001b[0m\u001b[0;34m)\u001b[0m\u001b[0;34m\u001b[0m\u001b[0;34m\u001b[0m\u001b[0m\n\u001b[0m\u001b[1;32m    197\u001b[0m             \u001b[0mself\u001b[0m\u001b[0;34m.\u001b[0m\u001b[0mscheduler\u001b[0m\u001b[0;34m.\u001b[0m\u001b[0mstep\u001b[0m\u001b[0;34m(\u001b[0m\u001b[0;34m)\u001b[0m\u001b[0;34m\u001b[0m\u001b[0;34m\u001b[0m\u001b[0m\n\u001b[1;32m    198\u001b[0m             \u001b[0mself\u001b[0m\u001b[0;34m.\u001b[0m\u001b[0mone_epoch\u001b[0m\u001b[0;34m(\u001b[0m\u001b[0mtraining\u001b[0m\u001b[0;34m=\u001b[0m\u001b[0;32mFalse\u001b[0m\u001b[0;34m)\u001b[0m\u001b[0;34m\u001b[0m\u001b[0;34m\u001b[0m\u001b[0m\n",
      "\u001b[0;32m~/MAP583/sp4asc/training.py\u001b[0m in \u001b[0;36mone_epoch\u001b[0;34m(self, training)\u001b[0m\n\u001b[1;32m    147\u001b[0m             \u001b[0mloss_class\u001b[0m \u001b[0;34m=\u001b[0m \u001b[0mself\u001b[0m\u001b[0;34m.\u001b[0m\u001b[0mloss\u001b[0m\u001b[0;34m(\u001b[0m\u001b[0mpred_class\u001b[0m\u001b[0;34m,\u001b[0m \u001b[0mgt_class\u001b[0m\u001b[0;34m)\u001b[0m\u001b[0;34m\u001b[0m\u001b[0;34m\u001b[0m\u001b[0m\n\u001b[1;32m    148\u001b[0m             \u001b[0;32mif\u001b[0m \u001b[0mtraining\u001b[0m\u001b[0;34m:\u001b[0m\u001b[0;34m\u001b[0m\u001b[0;34m\u001b[0m\u001b[0m\n\u001b[0;32m--> 149\u001b[0;31m                 \u001b[0mloss_class\u001b[0m\u001b[0;34m.\u001b[0m\u001b[0mbackward\u001b[0m\u001b[0;34m(\u001b[0m\u001b[0;34m)\u001b[0m\u001b[0;34m\u001b[0m\u001b[0;34m\u001b[0m\u001b[0m\n\u001b[0m\u001b[1;32m    150\u001b[0m                 \u001b[0mself\u001b[0m\u001b[0;34m.\u001b[0m\u001b[0moptim\u001b[0m\u001b[0;34m.\u001b[0m\u001b[0mstep\u001b[0m\u001b[0;34m(\u001b[0m\u001b[0;34m)\u001b[0m\u001b[0;34m\u001b[0m\u001b[0;34m\u001b[0m\u001b[0m\n\u001b[1;32m    151\u001b[0m \u001b[0;34m\u001b[0m\u001b[0m\n",
      "\u001b[0;32m~/MAP583/dcase/lib64/python3.6/site-packages/torch/_tensor.py\u001b[0m in \u001b[0;36mbackward\u001b[0;34m(self, gradient, retain_graph, create_graph, inputs)\u001b[0m\n\u001b[1;32m    305\u001b[0m                 \u001b[0mcreate_graph\u001b[0m\u001b[0;34m=\u001b[0m\u001b[0mcreate_graph\u001b[0m\u001b[0;34m,\u001b[0m\u001b[0;34m\u001b[0m\u001b[0;34m\u001b[0m\u001b[0m\n\u001b[1;32m    306\u001b[0m                 inputs=inputs)\n\u001b[0;32m--> 307\u001b[0;31m         \u001b[0mtorch\u001b[0m\u001b[0;34m.\u001b[0m\u001b[0mautograd\u001b[0m\u001b[0;34m.\u001b[0m\u001b[0mbackward\u001b[0m\u001b[0;34m(\u001b[0m\u001b[0mself\u001b[0m\u001b[0;34m,\u001b[0m \u001b[0mgradient\u001b[0m\u001b[0;34m,\u001b[0m \u001b[0mretain_graph\u001b[0m\u001b[0;34m,\u001b[0m \u001b[0mcreate_graph\u001b[0m\u001b[0;34m,\u001b[0m \u001b[0minputs\u001b[0m\u001b[0;34m=\u001b[0m\u001b[0minputs\u001b[0m\u001b[0;34m)\u001b[0m\u001b[0;34m\u001b[0m\u001b[0;34m\u001b[0m\u001b[0m\n\u001b[0m\u001b[1;32m    308\u001b[0m \u001b[0;34m\u001b[0m\u001b[0m\n\u001b[1;32m    309\u001b[0m     \u001b[0;32mdef\u001b[0m \u001b[0mregister_hook\u001b[0m\u001b[0;34m(\u001b[0m\u001b[0mself\u001b[0m\u001b[0;34m,\u001b[0m \u001b[0mhook\u001b[0m\u001b[0;34m)\u001b[0m\u001b[0;34m:\u001b[0m\u001b[0;34m\u001b[0m\u001b[0;34m\u001b[0m\u001b[0m\n",
      "\u001b[0;32m~/MAP583/dcase/lib64/python3.6/site-packages/torch/autograd/__init__.py\u001b[0m in \u001b[0;36mbackward\u001b[0;34m(tensors, grad_tensors, retain_graph, create_graph, grad_variables, inputs)\u001b[0m\n\u001b[1;32m    154\u001b[0m     Variable._execution_engine.run_backward(\n\u001b[1;32m    155\u001b[0m         \u001b[0mtensors\u001b[0m\u001b[0;34m,\u001b[0m \u001b[0mgrad_tensors_\u001b[0m\u001b[0;34m,\u001b[0m \u001b[0mretain_graph\u001b[0m\u001b[0;34m,\u001b[0m \u001b[0mcreate_graph\u001b[0m\u001b[0;34m,\u001b[0m \u001b[0minputs\u001b[0m\u001b[0;34m,\u001b[0m\u001b[0;34m\u001b[0m\u001b[0;34m\u001b[0m\u001b[0m\n\u001b[0;32m--> 156\u001b[0;31m         allow_unreachable=True, accumulate_grad=True)  # allow_unreachable flag\n\u001b[0m\u001b[1;32m    157\u001b[0m \u001b[0;34m\u001b[0m\u001b[0m\n\u001b[1;32m    158\u001b[0m \u001b[0;34m\u001b[0m\u001b[0m\n",
      "\u001b[0;31mKeyboardInterrupt\u001b[0m: "
     ]
    }
   ],
   "source": [
    "# ---\n",
    "from sp4asc.training import TrainingManager\n",
    "\n",
    "spectrogram = LogMelSpectrogram()\n",
    "\n",
    "path2log = config[\"out_dir\"] + \"test1\"\n",
    "os.makedirs(path2log, exist_ok=True)\n",
    "\n",
    "optim = torch.optim.AdamW(\n",
    "    [\n",
    "        {\"params\": small_densenet121.parameters()},\n",
    "    ],\n",
    "    lr=config[\"lr\"],\n",
    "    weight_decay=config[\"weight_decay\"],\n",
    ")\n",
    "scheduler = torch.optim.lr_scheduler.CosineAnnealingLR(\n",
    "    optim,\n",
    "    config[\"max_epoch\"],\n",
    "    eta_min=config[\"eta_min\"],\n",
    ")\n",
    "\n",
    "# --- Training\n",
    "mng = TrainingManager(\n",
    "    small_densenet121,\n",
    "    spectrogram,\n",
    "    loader_train,\n",
    "    loader_test,\n",
    "    optim,\n",
    "    scheduler,\n",
    "    config,\n",
    "    path2log,\n",
    "    device=\"cpu\"\n",
    ")\n",
    "mng.train()"
   ]
  },
  {
   "cell_type": "code",
   "execution_count": null,
   "metadata": {},
   "outputs": [],
   "source": []
  }
 ],
 "metadata": {
  "interpreter": {
   "hash": "b0fa6594d8f4cbf19f97940f81e996739fb7646882a419484c72d19e05852a7e"
  },
  "kernelspec": {
   "display_name": "dcase",
   "language": "python",
   "name": "dcase"
  },
  "language_info": {
   "codemirror_mode": {
    "name": "ipython",
    "version": 3
   },
   "file_extension": ".py",
   "mimetype": "text/x-python",
   "name": "python",
   "nbconvert_exporter": "python",
   "pygments_lexer": "ipython3",
   "version": "3.6.8"
  }
 },
 "nbformat": 4,
 "nbformat_minor": 2
}
